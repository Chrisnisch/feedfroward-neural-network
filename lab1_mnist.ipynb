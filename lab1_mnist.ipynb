{
 "cells": [
  {
   "metadata": {},
   "cell_type": "markdown",
   "source": [
    "# Лабораторная №1 - Нейронная сеть прямого распространения\n",
    "\n",
    "## Решаемая задача: распознавание рукописных символов\n",
    "\n",
    "В данном ноутбуке представлено распознавание рукописных цифр (10 классов) с использованием самописной нейронной сети прямого распространения."
   ],
   "id": "1995157376566915"
  },
  {
   "metadata": {},
   "cell_type": "markdown",
   "source": [
    "### Данные\n",
    "Датасет - MNIST. Скачиваем и выполняем предобработку"
   ],
   "id": "710269006b6b607f"
  },
  {
   "cell_type": "code",
   "id": "initial_id",
   "metadata": {
    "collapsed": true,
    "ExecuteTime": {
     "end_time": "2025-03-21T20:39:55.320979Z",
     "start_time": "2025-03-21T20:39:55.317676Z"
    }
   },
   "source": [
    "from pathlib import Path\n",
    "import requests\n",
    "\n",
    "DATA_PATH = Path(\"data\")\n",
    "PATH = DATA_PATH / \"mnist\"\n",
    "\n",
    "PATH.mkdir(parents=True, exist_ok=True)\n",
    "\n",
    "URL = \"https://github.com/pytorch/tutorials/raw/main/_static/\"\n",
    "FILENAME = \"mnist.pkl.gz\"\n",
    "\n",
    "if not (PATH / FILENAME).exists():\n",
    "        content = requests.get(URL + FILENAME).content\n",
    "        (PATH / FILENAME).open(\"wb\").write(content)"
   ],
   "outputs": [],
   "execution_count": 10
  },
  {
   "metadata": {
    "ExecuteTime": {
     "end_time": "2025-03-21T20:39:56.126110Z",
     "start_time": "2025-03-21T20:39:55.677553Z"
    }
   },
   "cell_type": "code",
   "source": [
    "import pickle\n",
    "import gzip\n",
    "import numpy as np\n",
    "\n",
    "with gzip.open((PATH / FILENAME).as_posix(), \"rb\") as f:\n",
    "        ((x_train, y_train), (x_test, y_test), _) = pickle.load(f, encoding=\"latin-1\")\n",
    "        \n",
    "x_train = np.array(x_train)\n",
    "y_train = np.array(y_train)\n",
    "x_test = np.array(x_test)\n",
    "y_test = np.array(y_test)\n"
   ],
   "id": "21f47f81f7737b7a",
   "outputs": [],
   "execution_count": 11
  },
  {
   "metadata": {
    "ExecuteTime": {
     "end_time": "2025-03-21T20:39:56.695610Z",
     "start_time": "2025-03-21T20:39:56.606860Z"
    }
   },
   "cell_type": "code",
   "source": [
    "import matplotlib.pyplot as plt\n",
    "\n",
    "plt.figure()\n",
    "plt.imshow(x_train[0].reshape(28, 28), cmap='gray')\n",
    "plt.colorbar()\n",
    "plt.grid(False)"
   ],
   "id": "93a1e9e1f7054395",
   "outputs": [
    {
     "data": {
      "text/plain": [
       "<Figure size 640x480 with 2 Axes>"
      ],
      "image/png": "[encoded data removed]"
     },
     "metadata": {},
     "output_type": "display_data"
    }
   ],
   "execution_count": 12
  },
  {
   "metadata": {},
   "cell_type": "markdown",
   "source": "Данные уже нормализованы - цвет отдельного пикселя изменяется от 0 до 1",
   "id": "c879aa92100673a3"
  },
  {
   "metadata": {},
   "cell_type": "markdown",
   "source": "### Реализация сети",
   "id": "3f7eff298fe5dc78"
  },
  {
   "metadata": {
    "ExecuteTime": {
     "end_time": "2025-03-21T20:39:57.925350Z",
     "start_time": "2025-03-21T20:39:57.914946Z"
    }
   },
   "cell_type": "code",
   "source": [
    "import time\n",
    "\n",
    "def ReLU(x, derivative=False):\n",
    "    return x * (x > 0) if not derivative else x > 0\n",
    "\n",
    "\n",
    "def softmax(x):\n",
    "    exp_x = np.exp(x - np.max(x))\n",
    "    return exp_x / exp_x.sum(axis=1, keepdims=True)\n",
    "\n",
    "class Network:\n",
    "\n",
    "    def __init__(self, sizes, activation_func=ReLU, output_func=softmax):\n",
    "        self.sizes = sizes\n",
    "        self.activation_func = activation_func\n",
    "        self.output_func = output_func\n",
    "        # self._norm_init()\n",
    "        # self._xavier_init()\n",
    "        self._he_init()\n",
    "\n",
    "    def _norm_init(self):\n",
    "        \n",
    "        self.weights = []\n",
    "        self.biases = []\n",
    "        self.activations = []\n",
    "        self.deltaW = []\n",
    "        self.deltaB = []\n",
    "        \n",
    "        for i in range(1, len(self.sizes)):\n",
    "            self.weights.append(0 + 0.5 * np.random.randn(self.sizes[i-1], self.sizes[i]))\n",
    "            self.biases.append(np.zeros((1, self.sizes[i])))\n",
    "\n",
    "    def _xavier_init(self):\n",
    "        \n",
    "        self.weights = []\n",
    "        self.biases = []\n",
    "        self.activations = []\n",
    "        self.deltaW = []\n",
    "        self.deltaB = []\n",
    "        \n",
    "        for i in range(1, len(self.sizes)):\n",
    "            left, right = self.sizes[i-1], self.sizes[i]\n",
    "            limit = np.sqrt(6 / (left + right))\n",
    "            self.weights.append(np.random.uniform(-limit, limit, size=(left, right)))\n",
    "            self.biases.append(np.zeros((1, self.sizes[i])))\n",
    "            \n",
    "    def _he_init(self):\n",
    "        self.weights = []\n",
    "        self.biases = []\n",
    "        self.activations = []\n",
    "        self.deltaW = []\n",
    "        self.deltaB = []\n",
    "        \n",
    "        for i in range(1, len(self.sizes)):\n",
    "            left, right = self.sizes[i-1], self.sizes[i]\n",
    "            limit = np.sqrt(2 / left)\n",
    "            self.weights.append(np.random.uniform(-limit, limit, size=(left, right)))\n",
    "            self.biases.append(np.zeros((1, self.sizes[i])))\n",
    "       \n",
    "    def _forward(self, x):\n",
    "        self.activations = [np.array(x).reshape(1, len(x))]\n",
    "        \n",
    "        for i in range(len(self.sizes)-2):\n",
    "            self.activations.append(self.activation_func(np.dot(self.activations[-1], self.weights[i]) + self.biases[i]))\n",
    "\n",
    "        self.activations.append(self.output_func(np.dot(self.activations[-1], self.weights[-1]) + self.biases[-1]))\n",
    "        \n",
    "        return self.activations[-1]\n",
    "\n",
    "    def _backprop(self, y_valid):\n",
    "        self.deltaW = []\n",
    "        self.deltaB = []\n",
    "        error = self.activations[len(self.sizes)-1] - y_valid\n",
    "        \n",
    "        for i in range(len(self.sizes)-2, -1, -1):\n",
    "            self.deltaW.insert(0, np.dot(self.activations[i].T, error))\n",
    "            self.deltaB.insert(0, np.sum(error, axis=0, keepdims=True))\n",
    "            error = np.dot(error, self.weights[i].T) * ReLU(self.activations[i], derivative=True)\n",
    "\n",
    "    def _update_params(self, learning_rate):\n",
    "        \n",
    "        for i in range(len(self.weights)):\n",
    "            self.weights[i] -= learning_rate * self.deltaW[i]\n",
    "            self.biases[i] -= learning_rate * self.deltaB[i]\n",
    "        \n",
    "    def _onehot(self, y):\n",
    "        one_hot = np.zeros((1, self.sizes[-1]))\n",
    "        one_hot[0, y] = 1\n",
    "        return one_hot\n",
    "        \n",
    "    def fit(self, x_train, y_train, x_test, y_test, epochs, learning_rate):\n",
    "        time_data = []\n",
    "        loss_data = []\n",
    "        acc_data = []\n",
    "        start = time.time()\n",
    "        for epoch in range(epochs):\n",
    "            total_loss = 0\n",
    "            epoch_start = time.time()\n",
    "            for x, y in zip(x_train, y_train):\n",
    "                y_onehot = self._onehot(y)\n",
    "                self._forward(x)\n",
    "                self._backprop(y_onehot)\n",
    "                self._update_params(learning_rate)\n",
    "                self._forward(x)\n",
    "                output = self.activations[-1]\n",
    "                loss = -np.sum(y_onehot * np.log(output + 1e-8))\n",
    "                total_loss += loss\n",
    "            avg_loss = total_loss / len(x_train)\n",
    "            loss_data.append(avg_loss)\n",
    "            print(f\"====================================\\n\"\n",
    "                  f\"Epoch {epoch + 1}/{epochs}\\nLoss: {avg_loss:.4f}\")\n",
    "            accuracy = self.test(x_test, y_test)\n",
    "            acc_data.append(accuracy)\n",
    "            print(f'Accuracy: {accuracy:.2f}%')\n",
    "            time_data.append(time.time() - epoch_start)\n",
    "        print(f'Total time: {time.time() - start:.2f}')\n",
    "        \n",
    "        return time_data, loss_data, acc_data\n",
    "    \n",
    "    def test(self, x_test, y_test):\n",
    "        correct = 0\n",
    "        for x, y in zip(x_test, y_test):\n",
    "            prediction = self.predict(x)\n",
    "            if prediction == y:\n",
    "                correct += 1\n",
    "\n",
    "        return correct / len(y_test) * 100\n",
    "\n",
    "    def predict(self, x):\n",
    "        self._forward(x)\n",
    "        return np.argmax(self.activations[-1])"
   ],
   "id": "eb3cfab416f3dc8f",
   "outputs": [],
   "execution_count": 13
  },
  {
   "metadata": {},
   "cell_type": "markdown",
   "source": [
    "Архитектура:\n",
    "* входной слой 784 нейрона (не совсем нейроны) - такова размерность данных\n",
    "* 1-й скрытый слой 128 нейронов\n",
    "* 2-й скрытый слой 64 нейрона\n",
    "* выходной слой 10 нейронов - количество классов"
   ],
   "id": "c4db1429ef08662f"
  },
  {
   "metadata": {
    "ExecuteTime": {
     "end_time": "2025-03-21T20:39:58.560490Z",
     "start_time": "2025-03-21T20:39:58.548669Z"
    }
   },
   "cell_type": "code",
   "source": [
    "input_ = x_train.shape[1]  # размерность входных данных\n",
    "hidden1 = 128\n",
    "hidden2 = 64\n",
    "output = len(np.unique(y_train))  # количество классов\n",
    "model = Network([input_, hidden1, hidden2, output])"
   ],
   "id": "9e0b330b82f25343",
   "outputs": [],
   "execution_count": 14
  },
  {
   "metadata": {
    "ExecuteTime": {
     "end_time": "2025-03-21T20:41:19.089969Z",
     "start_time": "2025-03-21T20:39:58.916934Z"
    }
   },
   "cell_type": "code",
   "source": "time_data, loss_data, acc_data = model.fit(x_train, y_train, x_test[:len(x_test)//2], y_test[:len(y_test)//2], 10, 0.01)",
   "id": "c34c900d3c162697",
   "outputs": [
    {
     "name": "stdout",
     "output_type": "stream",
     "text": [
      "====================================\n",
      "Epoch 1/10\n",
      "Loss: 0.0605\n",
      "Accuracy: 95.34%\n",
      "====================================\n",
      "Epoch 2/10\n",
      "Loss: 0.0135\n",
      "Accuracy: 96.04%\n",
      "====================================\n",
      "Epoch 3/10\n",
      "Loss: 0.0082\n",
      "Accuracy: 96.42%\n",
      "====================================\n",
      "Epoch 4/10\n",
      "Loss: 0.0053\n",
      "Accuracy: 96.94%\n",
      "====================================\n",
      "Epoch 5/10\n",
      "Loss: 0.0038\n",
      "Accuracy: 96.96%\n",
      "====================================\n",
      "Epoch 6/10\n",
      "Loss: 0.0028\n",
      "Accuracy: 97.10%\n",
      "====================================\n",
      "Epoch 7/10\n",
      "Loss: 0.0021\n",
      "Accuracy: 97.28%\n",
      "====================================\n",
      "Epoch 8/10\n",
      "Loss: 0.0019\n",
      "Accuracy: 97.10%\n",
      "====================================\n",
      "Epoch 9/10\n",
      "Loss: 0.0015\n",
      "Accuracy: 97.00%\n",
      "====================================\n",
      "Epoch 10/10\n",
      "Loss: 0.0012\n",
      "Accuracy: 97.10%\n",
      "Total time: 80.17\n"
     ]
    }
   ],
   "execution_count": 15
  },
  {
   "metadata": {
    "ExecuteTime": {
     "end_time": "2025-03-21T00:46:06.339368Z",
     "start_time": "2025-03-21T00:46:06.291182Z"
    }
   },
   "cell_type": "code",
   "source": [
    "print(f'Среднее время выполнения одной итерации: {np.mean(time_data):.2f}')\n",
    "x_i = [i for i in range(10)]\n",
    "plt.plot(x_i, loss_data, label='loss')\n",
    "plt.plot(x_i, acc_data, label='accuracy')\n",
    "plt.legend()\n",
    "plt.show()"
   ],
   "id": "267fc22bcef2ae8c",
   "outputs": [
    {
     "name": "stdout",
     "output_type": "stream",
     "text": [
      "Среднее время выполнения одной итерации: 7.86\n"
     ]
    },
    {
     "data": {
      "text/plain": [
       "<Figure size 640x480 with 1 Axes>"
      ],
      "image/png": "[encoded data removed]"
     },
     "metadata": {},
     "output_type": "display_data"
    }
   ],
   "execution_count": 72
  },
  {
   "metadata": {
    "ExecuteTime": {
     "end_time": "2025-03-21T00:47:03.234803Z",
     "start_time": "2025-03-21T00:47:03.107250Z"
    }
   },
   "cell_type": "code",
   "source": [
    "print(f'Validation...')\n",
    "x_valid = x_test[len(x_test)//2:]\n",
    "y_valid = y_test[len(y_test)//2:]\n",
    "valid_accuracy = model.test(x_test[len(x_test)//2:], y_test[len(y_test)//2:])\n",
    "print(f'Accuracy: {valid_accuracy:.2f}%')"
   ],
   "id": "60051834743d4e48",
   "outputs": [
    {
     "name": "stdout",
     "output_type": "stream",
     "text": [
      "Validation...\n",
      "Accuracy: 97.30%\n"
     ]
    }
   ],
   "execution_count": 76
  },
  {
   "metadata": {
    "ExecuteTime": {
     "end_time": "2025-03-21T00:47:04.228510Z",
     "start_time": "2025-03-21T00:47:04.225329Z"
    }
   },
   "cell_type": "code",
   "source": [
    "def visualize(images, labels, real, num_images=5):\n",
    "    fig, axes = plt.subplots(1, num_images, figsize=(10, 2))\n",
    "    for i in range(num_images):\n",
    "        axes[i].imshow(images[i].reshape(28, 28), cmap='gray')\n",
    "        axes[i].set_title(f'Prediction: {labels[i]}\\nActual: {real[i]}')\n",
    "        axes[i].axis('off')\n",
    "    plt.show()"
   ],
   "id": "fb210d63302e1f5d",
   "outputs": [],
   "execution_count": 77
  },
  {
   "metadata": {
    "ExecuteTime": {
     "end_time": "2025-03-21T00:47:27.969194Z",
     "start_time": "2025-03-21T00:47:27.892348Z"
    }
   },
   "cell_type": "code",
   "source": [
    "predictions = []\n",
    "count = 5\n",
    "x = []\n",
    "y = []\n",
    "for i in range(count):\n",
    "    i_x = np.random.randint(0, x_valid.shape[0])\n",
    "    x.append(x_valid[i_x])\n",
    "    y.append(y_valid[i_x])\n",
    "    predictions.append(model.predict(x_valid[i_x]))\n",
    "visualize(x, predictions, y, count)"
   ],
   "id": "67550afa14fbc0d4",
   "outputs": [
    {
     "data": {
      "text/plain": [
       "<Figure size 1000x200 with 5 Axes>"
      ],
      "image/png": "[encoded data removed]"
     },
     "metadata": {},
     "output_type": "display_data"
    }
   ],
   "execution_count": 78
  },
  {
   "metadata": {
    "ExecuteTime": {
     "end_time": "2025-03-19T20:33:01.112759Z",
     "start_time": "2025-03-19T20:33:01.112759Z"
    }
   },
   "cell_type": "code",
   "source": "",
   "id": "d397c581c1674167",
   "outputs": [],
   "execution_count": null
  }
 ],
 "metadata": {
  "kernelspec": {
   "display_name": "Python 3",
   "language": "python",
   "name": "python3"
  },
  "language_info": {
   "codemirror_mode": {
    "name": "ipython",
    "version": 2
   },
   "file_extension": ".py",
   "mimetype": "text/x-python",
   "name": "python",
   "nbconvert_exporter": "python",
   "pygments_lexer": "ipython2",
   "version": "2.7.6"
  }
 },
 "nbformat": 4,
 "nbformat_minor": 5
}
