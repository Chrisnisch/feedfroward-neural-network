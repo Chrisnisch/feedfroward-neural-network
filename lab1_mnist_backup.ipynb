{
 "cells": [
  {
   "metadata": {},
   "cell_type": "markdown",
   "source": [
    "# Лабораторная №1 - Нейронная сеть прямого распространения\n",
    "\n",
    "## Решаемая задача: распознавание рукописных символов\n",
    "\n",
    "В данном ноутбуке представлено распознавание рукописных цифр (10 классов) с использованием самописной нейронной сети прямого распространения."
   ],
   "id": "1995157376566915"
  },
  {
   "metadata": {},
   "cell_type": "markdown",
   "source": [
    "### Данные\n",
    "Датасет - MNIST. Скачиваем и выполняем предобработку"
   ],
   "id": "710269006b6b607f"
  },
  {
   "cell_type": "code",
   "id": "initial_id",
   "metadata": {
    "collapsed": true,
    "ExecuteTime": {
     "end_time": "2025-03-20T23:32:51.220890Z",
     "start_time": "2025-03-20T23:32:51.026381Z"
    }
   },
   "source": [
    "from pathlib import Path\n",
    "import requests\n",
    "\n",
    "DATA_PATH = Path(\"data\")\n",
    "PATH = DATA_PATH / \"mnist\"\n",
    "\n",
    "PATH.mkdir(parents=True, exist_ok=True)\n",
    "\n",
    "URL = \"https://github.com/pytorch/tutorials/raw/main/_static/\"\n",
    "FILENAME = \"mnist.pkl.gz\"\n",
    "\n",
    "if not (PATH / FILENAME).exists():\n",
    "        content = requests.get(URL + FILENAME).content\n",
    "        (PATH / FILENAME).open(\"wb\").write(content)"
   ],
   "outputs": [],
   "execution_count": 1
  },
  {
   "metadata": {
    "ExecuteTime": {
     "end_time": "2025-03-20T23:32:53.177637Z",
     "start_time": "2025-03-20T23:32:52.734362Z"
    }
   },
   "cell_type": "code",
   "source": [
    "import pickle\n",
    "import gzip\n",
    "\n",
    "with gzip.open((PATH / FILENAME).as_posix(), \"rb\") as f:\n",
    "        ((x_train, y_train), (x_test, y_test), _) = pickle.load(f, encoding=\"latin-1\")"
   ],
   "id": "21f47f81f7737b7a",
   "outputs": [],
   "execution_count": 2
  },
  {
   "metadata": {
    "ExecuteTime": {
     "end_time": "2025-03-20T23:32:54.368604Z",
     "start_time": "2025-03-20T23:32:53.973723Z"
    }
   },
   "cell_type": "code",
   "source": [
    "import matplotlib.pyplot as plt\n",
    "\n",
    "plt.figure()\n",
    "plt.imshow(x_train[0].reshape(28, 28), cmap='gray')\n",
    "plt.colorbar()\n",
    "plt.grid(False)"
   ],
   "id": "93a1e9e1f7054395",
   "outputs": [
    {
     "data": {
      "text/plain": [
       "<Figure size 640x480 with 2 Axes>"
      ],
      "image/png": "[encoded data removed]"
     },
     "metadata": {},
     "output_type": "display_data"
    }
   ],
   "execution_count": 3
  },
  {
   "metadata": {},
   "cell_type": "markdown",
   "source": "Данные уже нормализованы - цвет отдельного пикселя изменяется от 0 до 1",
   "id": "c879aa92100673a3"
  },
  {
   "metadata": {},
   "cell_type": "markdown",
   "source": [
    "### Реализация сети\n",
    "Ниже представлены две реализации:\n",
    "* HardcodedNetwork - жестко заданная архитектура:\n",
    "    - входной слой \n",
    "    - 1-й скрытый слой с активацией ReLU \n",
    "    - 2-й скрытый слой с активацией ReLU \n",
    "    - выходной слой с активацией softmax\n",
    "* Network - обобщенная реализация, помимо количества нейронов в каждом слое можно менять количество слоёв, функции активации, веса и смещения"
   ],
   "id": "3f7eff298fe5dc78"
  },
  {
   "metadata": {
    "ExecuteTime": {
     "end_time": "2025-03-21T00:00:52.521976Z",
     "start_time": "2025-03-21T00:00:52.512839Z"
    }
   },
   "cell_type": "code",
   "source": [
    "import numpy as np\n",
    "import time\n",
    "\n",
    "def ReLU(x, derivative=False):\n",
    "    return x * (x > 0) if not derivative else x > 0\n",
    "\n",
    "\n",
    "def softmax(x):\n",
    "    exp_x = np.exp(x - np.max(x))\n",
    "    return exp_x / exp_x.sum(axis=1, keepdims=True)\n",
    "\n",
    "\n",
    "class HardcodedNetwork:\n",
    "\n",
    "    def __init__(self, sizes, batch_size=64):\n",
    "        self.input_layer_size = sizes[0]\n",
    "        self.hidden_layer_1_size, self.hidden_layer_2_size = sizes[1], sizes[2]\n",
    "        self.output_layer_size = sizes[3]\n",
    "\n",
    "        self.batch_size = batch_size\n",
    "\n",
    "        self.__xavier_init(sizes)\n",
    "\n",
    "    def __xavier_init(self, sizes):\n",
    "        fan_in, fan_out = sizes[0], sizes[1]\n",
    "        limit = np.sqrt(6 / (fan_in + fan_out))\n",
    "        self.weights1 = np.random.uniform(-limit, limit, size=(fan_in, fan_out))\n",
    "\n",
    "        fan_in, fan_out = sizes[1], sizes[2]\n",
    "        limit = np.sqrt(6 / (fan_in + fan_out))\n",
    "        self.weights2 = np.random.uniform(-limit, limit, size=(fan_in, fan_out))\n",
    "\n",
    "        fan_in, fan_out = sizes[2], sizes[3]\n",
    "        limit = np.sqrt(6 / (fan_in + fan_out))\n",
    "        self.weights3 = np.random.uniform(-limit, limit, size=(fan_in, fan_out))\n",
    "\n",
    "        self.biases1 = np.zeros((1, self.hidden_layer_1_size))\n",
    "        self.biases2 = np.zeros((1, self.hidden_layer_2_size))\n",
    "        self.biases3 = np.zeros((1, self.output_layer_size))\n",
    "\n",
    "    def __forward(self, x):\n",
    "        input_activations = np.array(x).reshape(1, len(x))\n",
    "\n",
    "        self.hidden1_activations = ReLU(np.dot(input_activations, self.weights1) + self.biases1)\n",
    "\n",
    "        self.hidden2_activations = ReLU(np.dot(self.hidden1_activations, self.weights2) + self.biases2)\n",
    "\n",
    "        self.output_activations = softmax(np.dot(self.hidden2_activations, self.weights3) + self.biases3)\n",
    "\n",
    "        return self.output_activations\n",
    "\n",
    "    def __backprop(self, x, y_valid):\n",
    "        input_activations = np.array(x).reshape(1, len(x))\n",
    "        y_onehot = self.__onehot(y_valid)\n",
    "\n",
    "        self.__forward(x)\n",
    "\n",
    "        output_error = self.output_activations - y_onehot\n",
    "        self.dW3 = np.dot(self.hidden2_activations.T, output_error) \n",
    "        self.dB3 = np.sum(output_error, axis=0, keepdims=True)\n",
    "\n",
    "        hidden2_error = np.dot(output_error, self.weights3.T) * ReLU(self.hidden2_activations, derivative=True)\n",
    "        self.dW2 = np.dot(self.hidden1_activations.T, hidden2_error)\n",
    "        self.dB2 = np.sum(hidden2_error, axis=0, keepdims=True)\n",
    "\n",
    "        hidden1_error = np.dot(hidden2_error, self.weights2.T) * ReLU(self.hidden1_activations, derivative=True)\n",
    "        self.dW1 = np.dot(input_activations.T, hidden1_error)\n",
    "        self.dB1 = np.sum(hidden1_error, axis=0, keepdims=True)\n",
    "\n",
    "    def fit(self, x_train, y_train, x_test, y_test, epochs, learning_rate):\n",
    "        time_data = []\n",
    "        loss_data = []\n",
    "        acc_data = []\n",
    "        start = time.time()\n",
    "        for epoch in range(epochs):\n",
    "            total_loss = 0\n",
    "            epoch_start = time.time()\n",
    "            for x, y in zip(x_train, y_train):\n",
    "                self.__backprop(x, y)\n",
    "                y_onehot = self.__onehot(y)\n",
    "                output = self.__forward(x)\n",
    "                loss = -np.sum(y_onehot * np.log(output + 1e-8))\n",
    "                total_loss += loss\n",
    "                self.__update_params(learning_rate)\n",
    "            avg_loss = total_loss / len(x_train)\n",
    "            loss_data.append(avg_loss)\n",
    "            print(f\"====================================\\n\"\n",
    "                  f\"Epoch {epoch + 1}/{epochs}\\nLoss: {avg_loss:.4f}\")\n",
    "            accuracy = self.test(x_test, y_test)\n",
    "            acc_data.append(accuracy)\n",
    "            print(f'Accuracy: {accuracy:.2f}%')\n",
    "            time_data.append(time.time() - epoch_start)\n",
    "        print(f'Training time: {time.time() - start:.2f}')\n",
    "        return time_data, loss_data, acc_data\n",
    "\n",
    "    def __update_params(self, learning_rate):\n",
    "        self.weights1 -= learning_rate * self.dW1\n",
    "        self.biases1 -= learning_rate * self.dB1\n",
    "\n",
    "        self.weights2 -= learning_rate * self.dW2\n",
    "        self.biases2 -= learning_rate * self.dB2\n",
    "\n",
    "        self.weights3 -= learning_rate * self.dW3\n",
    "        self.biases3 -= learning_rate * self.dB3\n",
    "\n",
    "    def test(self, x_test, y_test):\n",
    "        correct = 0\n",
    "        for x, y in zip(x_test, y_test):\n",
    "            prediction = self.predict(x)\n",
    "            if prediction == y:\n",
    "                correct += 1\n",
    "\n",
    "        return correct / len(y_test) * 100\n",
    "\n",
    "    def predict(self, x):\n",
    "        return np.argmax(self.__forward(x))\n",
    "\n",
    "    def __onehot(self, y):\n",
    "        return np.eye(1, self.output_layer_size, k=y)\n",
    "\n",
    "    def __str__(self):\n",
    "        return (f'MyNetwork(\\n\\tinput layer of {self.input_layer_size} nodes,'\n",
    "                f'\\n\\tweights between input and first hidden size of {self.weights1.shape},'\n",
    "                f'\\n\\tfirst hidden layer of {self.hidden_layer_1_size} nodes,'\n",
    "                f'\\n\\tbiases of first hidden layer size of {self.biases1.shape},'\n",
    "                f'\\n\\tweights between first hidden and second hidden size of {self.weights2.shape},'\n",
    "                f'\\n\\tsecond hidden layer of {self.hidden_layer_2_size} nodes,'\n",
    "                f'\\n\\tbiases of second hidden layer size of {self.biases1.shape},'\n",
    "                f'\\n\\tweights between second hidden and output size of {self.weights3.shape},'\n",
    "                f'\\n\\toutput layer of {self.output_layer_size} nodes,'\n",
    "                f'\\n\\tbiases of output layer size of {self.biases1.shape}'\n",
    "                f')')"
   ],
   "id": "c1787e8c4c90b873",
   "outputs": [],
   "execution_count": 11
  },
  {
   "metadata": {
    "ExecuteTime": {
     "end_time": "2025-03-21T00:04:58.323687Z",
     "start_time": "2025-03-21T00:04:58.315801Z"
    }
   },
   "cell_type": "code",
   "source": [
    "class Network:\n",
    "\n",
    "    def __init__(self, sizes, activation_func=ReLU, output_func=softmax):\n",
    "        self.sizes = sizes\n",
    "        self.activation_func = activation_func\n",
    "        self.output_func = output_func\n",
    "        self._xavier_init()\n",
    "\n",
    "    def _xavier_init(self):\n",
    "        \n",
    "        self.weights = []\n",
    "        self.biases = []\n",
    "        self.activations = []\n",
    "        self.deltaW = []\n",
    "        self.deltaB = []\n",
    "        \n",
    "        for i in range(1, len(self.sizes)):\n",
    "            left, right = self.sizes[i-1], self.sizes[i]\n",
    "            limit = np.sqrt(6 / (left + right))\n",
    "            self.weights.append(np.random.uniform(-limit, limit, size=(left, right)))\n",
    "            self.biases.append(np.zeros((1, self.sizes[i])))\n",
    "       \n",
    "    def _forward(self, x):\n",
    "        self.activations = [np.array(x).reshape(1, len(x))]\n",
    "        \n",
    "        for i in range(len(self.sizes)-2):\n",
    "            self.activations.append(self.activation_func(np.dot(self.activations[-1], self.weights[i]) + self.biases[i]))\n",
    "\n",
    "        self.activations.append(self.output_func(np.dot(self.activations[-1], self.weights[-1]) + self.biases[-1]))\n",
    "        \n",
    "        return self.activations[-1]\n",
    "\n",
    "    def _backprop(self, y_valid):\n",
    "        self.deltaW = []\n",
    "        self.deltaB = []\n",
    "        error = self.activations[len(self.sizes)-1] - y_valid\n",
    "        \n",
    "        for i in range(len(self.sizes)-2, -1, -1):\n",
    "            self.deltaW.insert(0, np.dot(self.activations[i].T, error))\n",
    "            self.deltaB.insert(0, np.sum(error, axis=0, keepdims=True))\n",
    "            error = np.dot(error, self.weights[i].T) * ReLU(self.activations[i], derivative=True)\n",
    "\n",
    "    def _update_params(self, learning_rate):\n",
    "        \n",
    "        for i in range(len(self.weights)):\n",
    "            self.weights[i] -= learning_rate * self.deltaW[i]\n",
    "            self.biases[i] -= learning_rate * self.deltaB[i]\n",
    "        \n",
    "    def _onehot(self, y):\n",
    "        return np.eye(1, self.sizes[-1], k=y)\n",
    "        \n",
    "    def fit(self, x_train, y_train, x_test, y_test, epochs, learning_rate):\n",
    "        time_data = []\n",
    "        loss_data = []\n",
    "        acc_data = []\n",
    "        start = time.time()\n",
    "        for epoch in range(epochs):\n",
    "            total_loss = 0\n",
    "            epoch_start = time.time()\n",
    "            for x, y in zip(x_train, y_train):\n",
    "                y_onehot = self._onehot(y)\n",
    "                self._forward(x)\n",
    "                self._backprop(y_onehot)\n",
    "                self._update_params(learning_rate)\n",
    "                self._forward(x)\n",
    "                output = self.activations[-1]\n",
    "                loss = -np.sum(y_onehot * np.log(output + 1e-8))\n",
    "                total_loss += loss\n",
    "            avg_loss = total_loss / len(x_train)\n",
    "            loss_data.append(avg_loss)\n",
    "            print(f\"====================================\\n\"\n",
    "                  f\"Epoch {epoch + 1}/{epochs}\\nLoss: {avg_loss:.4f}\")\n",
    "            accuracy = self.test(x_test, y_test)\n",
    "            acc_data.append(accuracy)\n",
    "            print(f'Accuracy: {accuracy:.2f}%')\n",
    "            time_data.append(time.time() - epoch_start)\n",
    "        print(f'Total time: {time.time() - start:.2f}')\n",
    "        \n",
    "        return time_data, loss_data, acc_data\n",
    "    \n",
    "    def test(self, x_test, y_test):\n",
    "        correct = 0\n",
    "        for x, y in zip(x_test, y_test):\n",
    "            prediction = self.predict(x)\n",
    "            if prediction == y:\n",
    "                correct += 1\n",
    "\n",
    "        return correct / len(y_test) * 100\n",
    "\n",
    "    def predict(self, x):\n",
    "        self._forward(x)\n",
    "        return np.argmax(self.activations[-1])"
   ],
   "id": "eb3cfab416f3dc8f",
   "outputs": [],
   "execution_count": 14
  },
  {
   "metadata": {},
   "cell_type": "markdown",
   "source": [
    "Сравним две реализации по производительности, состав слоёв определим следующим образом:\n",
    "* входной слой 784 нейрона (не совсем нейроны) - такова размерность данных\n",
    "* 1-й скрытый слой 128 нейронов\n",
    "* 2-й скрытый слой 64 нейрона\n",
    "* выходной слой 10 нейронов - количество классов\n",
    "\n",
    "Состав выбран произвольно"
   ],
   "id": "c4db1429ef08662f"
  },
  {
   "metadata": {
    "ExecuteTime": {
     "end_time": "2025-03-21T00:05:01.267771Z",
     "start_time": "2025-03-21T00:05:01.264770Z"
    }
   },
   "cell_type": "code",
   "source": "model = Network([784, 128, 64, 10])",
   "id": "9e0b330b82f25343",
   "outputs": [],
   "execution_count": 15
  },
  {
   "metadata": {
    "ExecuteTime": {
     "end_time": "2025-03-21T00:06:20.391390Z",
     "start_time": "2025-03-21T00:05:01.566341Z"
    }
   },
   "cell_type": "code",
   "source": "time_data, loss_data, acc_data = model.fit(x_train, y_train, x_test[:len(x_test)//2], y_test[:len(y_test)//2], 10, 0.01)",
   "id": "c34c900d3c162697",
   "outputs": [
    {
     "name": "stdout",
     "output_type": "stream",
     "text": [
      "====================================\n",
      "Epoch 1/10\n",
      "Loss: 0.0422\n",
      "Accuracy: 95.30%\n",
      "====================================\n",
      "Epoch 2/10\n",
      "Loss: 0.0119\n",
      "Accuracy: 95.90%\n",
      "====================================\n",
      "Epoch 3/10\n",
      "Loss: 0.0074\n",
      "Accuracy: 96.06%\n",
      "====================================\n",
      "Epoch 4/10\n",
      "Loss: 0.0049\n",
      "Accuracy: 96.80%\n",
      "====================================\n",
      "Epoch 5/10\n",
      "Loss: 0.0035\n",
      "Accuracy: 96.76%\n",
      "====================================\n",
      "Epoch 6/10\n",
      "Loss: 0.0027\n",
      "Accuracy: 96.68%\n",
      "====================================\n",
      "Epoch 7/10\n",
      "Loss: 0.0023\n",
      "Accuracy: 97.18%\n",
      "====================================\n",
      "Epoch 8/10\n",
      "Loss: 0.0018\n",
      "Accuracy: 97.14%\n",
      "====================================\n",
      "Epoch 9/10\n",
      "Loss: 0.0015\n",
      "Accuracy: 97.42%\n",
      "====================================\n",
      "Epoch 10/10\n",
      "Loss: 0.0014\n",
      "Accuracy: 97.00%\n",
      "Total time: 78.82\n"
     ]
    }
   ],
   "execution_count": 16
  },
  {
   "metadata": {
    "ExecuteTime": {
     "end_time": "2025-03-21T00:06:29.779146Z",
     "start_time": "2025-03-21T00:06:29.775646Z"
    }
   },
   "cell_type": "code",
   "source": "print(f'Среднее время выполнения одной итерации: {np.mean(time_data):.2f}')",
   "id": "267fc22bcef2ae8c",
   "outputs": [
    {
     "name": "stdout",
     "output_type": "stream",
     "text": [
      "Среднее время выполнения одной итерации: 7.88\n"
     ]
    }
   ],
   "execution_count": 18
  },
  {
   "metadata": {
    "ExecuteTime": {
     "end_time": "2025-03-21T00:01:05.001169Z",
     "start_time": "2025-03-21T00:01:04.997651Z"
    }
   },
   "cell_type": "code",
   "source": "model_hardcoded = HardcodedNetwork([784, 128, 64, 10])",
   "id": "cc2b3b86f88a1d3d",
   "outputs": [],
   "execution_count": 12
  },
  {
   "metadata": {
    "ExecuteTime": {
     "end_time": "2025-03-21T00:02:51.883974Z",
     "start_time": "2025-03-21T00:01:36.873169Z"
    }
   },
   "cell_type": "code",
   "source": "time_data_hard, loss_data_hard, acc_data_hard = model_hardcoded.fit(x_train, y_train, x_test[:len(x_test)//2], y_test[:len(y_test)//2], 10, 0.01)",
   "id": "988d83bd4ed9cc92",
   "outputs": [
    {
     "name": "stdout",
     "output_type": "stream",
     "text": [
      "====================================\n",
      "Epoch 1/10\n",
      "Loss: 0.2348\n",
      "Accuracy: 95.08%\n",
      "====================================\n",
      "Epoch 2/10\n",
      "Loss: 0.1090\n",
      "Accuracy: 95.36%\n",
      "====================================\n",
      "Epoch 3/10\n",
      "Loss: 0.0770\n",
      "Accuracy: 95.90%\n",
      "====================================\n",
      "Epoch 4/10\n",
      "Loss: 0.0573\n",
      "Accuracy: 95.52%\n",
      "====================================\n",
      "Epoch 5/10\n",
      "Loss: 0.0493\n",
      "Accuracy: 96.14%\n",
      "====================================\n",
      "Epoch 6/10\n",
      "Loss: 0.0422\n",
      "Accuracy: 97.16%\n",
      "====================================\n",
      "Epoch 7/10\n",
      "Loss: 0.0396\n",
      "Accuracy: 96.88%\n",
      "====================================\n",
      "Epoch 8/10\n",
      "Loss: 0.0373\n",
      "Accuracy: 95.76%\n",
      "====================================\n",
      "Epoch 9/10\n",
      "Loss: 0.0335\n",
      "Accuracy: 97.28%\n",
      "====================================\n",
      "Epoch 10/10\n",
      "Loss: 0.0259\n",
      "Accuracy: 96.60%\n",
      "Training time: 75.01\n"
     ]
    }
   ],
   "execution_count": 13
  },
  {
   "metadata": {
    "ExecuteTime": {
     "end_time": "2025-03-21T00:06:42.360935Z",
     "start_time": "2025-03-21T00:06:42.357403Z"
    }
   },
   "cell_type": "code",
   "source": "print(f'Среднее время выполнения одной итерации: {np.mean(time_data_hard):.2f}')",
   "id": "dd377c94fee537f0",
   "outputs": [
    {
     "name": "stdout",
     "output_type": "stream",
     "text": [
      "Среднее время выполнения одной итерации: 7.50\n"
     ]
    }
   ],
   "execution_count": 20
  },
  {
   "metadata": {
    "ExecuteTime": {
     "end_time": "2025-03-20T23:25:26.558767Z",
     "start_time": "2025-03-20T23:25:26.456501Z"
    }
   },
   "cell_type": "code",
   "source": [
    "print(f'Validation...')\n",
    "valid_accuracy = model.test(x_test[len(x_test)//2:], y_test[len(y_test)//2:])\n",
    "print(f'Accuracy: {valid_accuracy:.2f}%')"
   ],
   "id": "60051834743d4e48",
   "outputs": [
    {
     "name": "stdout",
     "output_type": "stream",
     "text": [
      "Validation...\n",
      "Accuracy: 97.42%\n"
     ]
    }
   ],
   "execution_count": 41
  },
  {
   "metadata": {
    "ExecuteTime": {
     "end_time": "2025-03-20T23:25:29.247639Z",
     "start_time": "2025-03-20T23:25:29.243641Z"
    }
   },
   "cell_type": "code",
   "source": [
    "def visualize(images, labels, real, num_images=5):\n",
    "    fig, axes = plt.subplots(1, num_images, figsize=(10, 2))\n",
    "    for i in range(num_images):\n",
    "        axes[i].imshow(images[i].reshape(28, 28), cmap='gray')\n",
    "        axes[i].set_title(f'Prediction: {labels[i]}\\nActual: {real[i]}')\n",
    "        axes[i].axis('off')\n",
    "    plt.show()"
   ],
   "id": "fb210d63302e1f5d",
   "outputs": [],
   "execution_count": 42
  },
  {
   "metadata": {
    "ExecuteTime": {
     "end_time": "2025-03-20T23:26:03.375514Z",
     "start_time": "2025-03-20T23:26:03.300176Z"
    }
   },
   "cell_type": "code",
   "source": [
    "predictions = []\n",
    "count = 5\n",
    "x = []\n",
    "y = []\n",
    "for i in range(count):\n",
    "    i_x = np.random.randint(0, x_test.shape[0])\n",
    "    x.append(x_test[i_x])\n",
    "    y.append(y_test[i_x])\n",
    "    predictions.append(model.predict(x_test[i_x]))\n",
    "visualize(x, predictions, y, count)"
   ],
   "id": "67550afa14fbc0d4",
   "outputs": [
    {
     "data": {
      "text/plain": [
       "<Figure size 1000x200 with 5 Axes>"
      ],
      "image/png": "[encoded data removed]"
     },
     "metadata": {},
     "output_type": "display_data"
    }
   ],
   "execution_count": 53
  },
  {
   "metadata": {
    "ExecuteTime": {
     "end_time": "2025-03-19T20:33:01.112759Z",
     "start_time": "2025-03-19T20:33:01.112759Z"
    }
   },
   "cell_type": "code",
   "source": "",
   "id": "d397c581c1674167",
   "outputs": [],
   "execution_count": null
  }
 ],
 "metadata": {
  "kernelspec": {
   "display_name": "Python 3",
   "language": "python",
   "name": "python3"
  },
  "language_info": {
   "codemirror_mode": {
    "name": "ipython",
    "version": 2
   },
   "file_extension": ".py",
   "mimetype": "text/x-python",
   "name": "python",
   "nbconvert_exporter": "python",
   "pygments_lexer": "ipython2",
   "version": "2.7.6"
  }
 },
 "nbformat": 4,
 "nbformat_minor": 5
}
