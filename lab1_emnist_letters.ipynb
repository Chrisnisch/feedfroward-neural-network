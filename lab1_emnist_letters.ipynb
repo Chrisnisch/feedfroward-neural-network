{
 "cells": [
  {
   "metadata": {},
   "cell_type": "markdown",
   "source": [
    "# Лабораторная №1 - Нейронная сеть прямого распространения\n",
    "\n",
    "## Решаемая задача: распознавание рукописных символов"
   ],
   "id": "2a82d8bf2c0aa4fb"
  },
  {
   "metadata": {},
   "cell_type": "markdown",
   "source": [
    "### Подготовка данных\n",
    "В качестве датасета используется emnist-letters. Он содержит 26 сбалансированных классов - рукописные буквы латинского алфавита (строчные и прописные) в градациях серого, 28x28 пикселей."
   ],
   "id": "62a4512e4fd07695"
  },
  {
   "metadata": {},
   "cell_type": "markdown",
   "source": "Прочитаем данные в ndarray с помощью idx2numpy",
   "id": "8f2df9d2ec4084c6"
  },
  {
   "cell_type": "code",
   "id": "initial_id",
   "metadata": {
    "collapsed": true,
    "ExecuteTime": {
     "end_time": "2025-03-24T16:03:43.001879Z",
     "start_time": "2025-03-24T16:03:42.888876Z"
    }
   },
   "source": [
    "import idx2numpy\n",
    "import numpy as np\n",
    "\n",
    "x_train = np.array(idx2numpy.convert_from_file('./data/emnist/emnist-letters-train-images-idx3-ubyte')).astype('float32')\n",
    "y_train = np.array(idx2numpy.convert_from_file('./data/emnist/emnist-letters-train-labels-idx1-ubyte'))\n",
    "\n",
    "x_test = np.array(idx2numpy.convert_from_file('./data/emnist/emnist-letters-test-images-idx3-ubyte')).astype('float32')\n",
    "y_test = np.array(idx2numpy.convert_from_file('./data/emnist/emnist-letters-test-labels-idx1-ubyte'))"
   ],
   "outputs": [],
   "execution_count": 56
  },
  {
   "metadata": {
    "ExecuteTime": {
     "end_time": "2025-03-24T16:03:43.089439Z",
     "start_time": "2025-03-24T16:03:43.001879Z"
    }
   },
   "cell_type": "code",
   "source": [
    "import matplotlib.pyplot as plt\n",
    "\n",
    "plt.figure()\n",
    "plt.imshow(x_train[100], cmap='gray')\n",
    "plt.colorbar()\n",
    "plt.grid(False)"
   ],
   "id": "c6faa0e54ccdec69",
   "outputs": [
    {
     "data": {
      "text/plain": [
       "<Figure size 640x480 with 2 Axes>"
      ],
      "image/png": "[encoded data removed]"
     },
     "metadata": {},
     "output_type": "display_data"
    }
   ],
   "execution_count": 57
  },
  {
   "metadata": {},
   "cell_type": "markdown",
   "source": [
    "Изначально изображения в не очень удобном формате: цвет каждого пикселя изменяется от 0 до 255, отражены и перевёрнуты. \n",
    "\n",
    "Чтобы расчеты были эффективнее, разделим все значения на максимальное. Также отразим и перевернем изображения."
   ],
   "id": "c7b19d54cefbe91c"
  },
  {
   "metadata": {
    "ExecuteTime": {
     "end_time": "2025-03-24T16:03:43.107902Z",
     "start_time": "2025-03-24T16:03:43.089439Z"
    }
   },
   "cell_type": "code",
   "source": [
    "x_train /= 255\n",
    "x_test /= 255\n",
    "\n",
    "x_train = np.fliplr(x_train)\n",
    "x_test = np.fliplr(x_test)\n",
    "\n",
    "x_train = np.rot90(x_train, k=3, axes=(1, 2))\n",
    "x_test = np.rot90(x_test, k=3, axes=(1, 2))"
   ],
   "id": "c6755b715b7ac635",
   "outputs": [],
   "execution_count": 58
  },
  {
   "metadata": {},
   "cell_type": "markdown",
   "source": "Также преобразуем каждое изображение из матрицы 28x28 в строки из 784 элементов",
   "id": "1f349cc13ba38c56"
  },
  {
   "metadata": {
    "ExecuteTime": {
     "end_time": "2025-03-24T16:03:43.228603Z",
     "start_time": "2025-03-24T16:03:43.109320Z"
    }
   },
   "cell_type": "code",
   "source": [
    "x_train = x_train.reshape(x_train.shape[0], 784)\n",
    "x_test = x_test.reshape(x_test.shape[0], 784)"
   ],
   "id": "adf30f35a6452c0b",
   "outputs": [],
   "execution_count": 59
  },
  {
   "metadata": {
    "ExecuteTime": {
     "end_time": "2025-03-24T16:03:43.311812Z",
     "start_time": "2025-03-24T16:03:43.229109Z"
    }
   },
   "cell_type": "code",
   "source": [
    "import matplotlib.pyplot as plt\n",
    "\n",
    "plt.figure()\n",
    "plt.imshow(x_train[100].reshape(28, 28), cmap='gray')\n",
    "plt.colorbar()\n",
    "plt.grid(False)"
   ],
   "id": "ea02a03a33a3932f",
   "outputs": [
    {
     "data": {
      "text/plain": [
       "<Figure size 640x480 with 2 Axes>"
      ],
      "image/png": "[encoded data removed]"
     },
     "metadata": {},
     "output_type": "display_data"
    }
   ],
   "execution_count": 60
  },
  {
   "metadata": {},
   "cell_type": "markdown",
   "source": "В массивах правильных ответов из каждого значения вычтем 1, чтобы удобнее было индексировать",
   "id": "f1053169e153c922"
  },
  {
   "metadata": {
    "ExecuteTime": {
     "end_time": "2025-03-24T16:03:43.314689Z",
     "start_time": "2025-03-24T16:03:43.311812Z"
    }
   },
   "cell_type": "code",
   "source": [
    "y_train -= 1\n",
    "y_test -= 1"
   ],
   "id": "56dadcfe3ca5de1a",
   "outputs": [],
   "execution_count": 61
  },
  {
   "metadata": {},
   "cell_type": "markdown",
   "source": "Изначальную тестовую выборку разделим пополам: первую будем использовать для тестирования, вторую для валидации",
   "id": "344975db4fb4cd46"
  },
  {
   "metadata": {
    "ExecuteTime": {
     "end_time": "2025-03-25T22:49:51.968574Z",
     "start_time": "2025-03-25T22:49:51.952294Z"
    }
   },
   "cell_type": "code",
   "source": [
    "indices = np.random.permutation(len(x_test))\n",
    "split_idx = len(x_test) // 2\n",
    "val_indices, test_indices = indices[:split_idx], indices[split_idx:]\n",
    "\n",
    "x_valid, y_valid = x_test[val_indices], y_test[val_indices]\n",
    "x_test_small, y_test_small = x_test[test_indices], y_test[test_indices]"
   ],
   "id": "c49d2869f991de45",
   "outputs": [],
   "execution_count": 262
  },
  {
   "metadata": {},
   "cell_type": "markdown",
   "source": [
    "### Реализация сети\n",
    "\n",
    "Класс Network - представляет сеть прямого распространения с произвольными числом слоёв, количеством нейронов в каждом, функциями активации (по умолчанию для скрытых слоёв ReLU, для выходного слоя softmax)"
   ],
   "id": "1c34f83912f25b6e"
  },
  {
   "metadata": {
    "ExecuteTime": {
     "end_time": "2025-03-24T16:16:49.715439Z",
     "start_time": "2025-03-24T16:16:49.703382Z"
    }
   },
   "cell_type": "code",
   "source": [
    "import time\n",
    "\n",
    "def ReLU(x, derivative=False):\n",
    "    return x * (x > 0) if not derivative else x > 0\n",
    "\n",
    "\n",
    "def softmax(x):\n",
    "    exp_x = np.exp(x - np.max(x))\n",
    "    return exp_x / exp_x.sum(axis=1, keepdims=True)\n",
    "\n",
    "class Network:\n",
    "\n",
    "    def __init__(self, sizes, activation_func=ReLU, output_func=softmax):\n",
    "        self.sizes = sizes\n",
    "        self.activation_func = activation_func\n",
    "        self.output_func = output_func\n",
    "        # self._norm_init()\n",
    "        # self._xavier_init()\n",
    "        self._he_init()\n",
    "\n",
    "    def _norm_init(self):\n",
    "        \n",
    "        self.weights = []\n",
    "        self.biases = []\n",
    "        self.activations = []\n",
    "        self.deltaW = []\n",
    "        self.deltaB = []\n",
    "        \n",
    "        for i in range(1, len(self.sizes)):\n",
    "            self.weights.append(0 + 0.5 * np.random.randn(self.sizes[i-1], self.sizes[i]))\n",
    "            self.biases.append(np.zeros((1, self.sizes[i])))\n",
    "\n",
    "    def _xavier_init(self):\n",
    "        \n",
    "        self.weights = []\n",
    "        self.biases = []\n",
    "        self.activations = []\n",
    "        self.deltaW = []\n",
    "        self.deltaB = []\n",
    "        \n",
    "        for i in range(1, len(self.sizes)):\n",
    "            left, right = self.sizes[i-1], self.sizes[i]\n",
    "            limit = np.sqrt(6 / (left + right))\n",
    "            self.weights.append(np.random.uniform(-limit, limit, size=(left, right)))\n",
    "            self.biases.append(np.zeros((1, self.sizes[i])))\n",
    "            \n",
    "    def _he_init(self):\n",
    "        self.weights = []\n",
    "        self.biases = []\n",
    "        self.activations = []\n",
    "        self.deltaW = []\n",
    "        self.deltaB = []\n",
    "        \n",
    "        for i in range(1, len(self.sizes)):\n",
    "            left, right = self.sizes[i-1], self.sizes[i]\n",
    "            limit = np.sqrt(2 / left)\n",
    "            self.weights.append(np.random.uniform(-limit, limit, size=(left, right)))\n",
    "            self.biases.append(np.zeros((1, self.sizes[i])))\n",
    "       \n",
    "    def _forward(self, x):\n",
    "        self.activations = [np.array(x).reshape(1, len(x))]\n",
    "        \n",
    "        for i in range(len(self.sizes)-2):\n",
    "            self.activations.append(self.activation_func(np.dot(self.activations[-1], self.weights[i]) + self.biases[i]))\n",
    "\n",
    "        self.activations.append(self.output_func(np.dot(self.activations[-1], self.weights[-1]) + self.biases[-1]))\n",
    "        \n",
    "        return self.activations[-1]\n",
    "\n",
    "    def _backprop(self, y_valid):\n",
    "        self.deltaW = []\n",
    "        self.deltaB = []\n",
    "        error = self.activations[len(self.sizes)-1] - y_valid\n",
    "        \n",
    "        for i in range(len(self.sizes)-2, -1, -1):\n",
    "            self.deltaW.insert(0, np.dot(self.activations[i].T, error))\n",
    "            self.deltaB.insert(0, np.sum(error, axis=0, keepdims=True))\n",
    "            error = np.dot(error, self.weights[i].T) * ReLU(self.activations[i], derivative=True)\n",
    "\n",
    "    def _update_params(self, learning_rate):\n",
    "        \n",
    "        for i in range(len(self.weights)):\n",
    "            self.weights[i] -= learning_rate * self.deltaW[i]\n",
    "            self.biases[i] -= learning_rate * self.deltaB[i]\n",
    "        \n",
    "    def _onehot(self, y):\n",
    "        one_hot = np.zeros((1, self.sizes[-1]))\n",
    "        one_hot[0, y] = 1\n",
    "        return one_hot\n",
    "        \n",
    "    def fit(self, \n",
    "            x_train, y_train, x_test, y_test, epochs, learning_rate, \n",
    "            growth_rate=2, patience=2, epsilon=0.005, print_all=True):\n",
    "        time_data = []\n",
    "        loss_data = []\n",
    "        acc_data = []\n",
    "        start = time.time()\n",
    "        \n",
    "        last_loss = float('inf')  # Лучший зафиксированный loss\n",
    "        patience_counter = 0  # Счетчик эпох без улучшения\n",
    "        \n",
    "        for epoch in range(epochs):\n",
    "            total_loss = 0\n",
    "            epoch_start = time.time()\n",
    "            \n",
    "            for x, y in zip(x_train, y_train):\n",
    "                y_onehot = self._onehot(y)\n",
    "                self._forward(x)\n",
    "                self._backprop(y_onehot)\n",
    "                self._update_params(learning_rate)\n",
    "                self._forward(x)\n",
    "                output = self.activations[-1]\n",
    "                loss = -np.sum(y_onehot * np.log(output + 1e-8))\n",
    "                total_loss += loss\n",
    "            avg_loss = total_loss / len(x_train)\n",
    "            loss_data.append(avg_loss)\n",
    "            accuracy = self.test(x_test, y_test)\n",
    "            acc_data.append(accuracy)\n",
    "            \n",
    "            if print_all or (epoch + 1) % 5 == 0:\n",
    "                print(f\"====================================\\n\"\n",
    "                      f\"Epoch {epoch + 1}/{epochs}\\nLoss: {avg_loss:.4f}\")\n",
    "                print(f'Accuracy: {accuracy:.2f}%')\n",
    "            time_data.append(time.time() - epoch_start)\n",
    "            \n",
    "            if avg_loss < last_loss:\n",
    "                if last_loss - avg_loss < epsilon:\n",
    "                    patience_counter += 1\n",
    "                last_loss = avg_loss\n",
    "            elif avg_loss - last_loss > epsilon:\n",
    "                learning_rate *= 0.8\n",
    "                print(f'⚠️ LR уменьшен на 20%: {learning_rate}')\n",
    "            \n",
    "            if patience_counter >= patience:\n",
    "                patience_counter = 0\n",
    "                learning_rate *= growth_rate\n",
    "                print(f'⚠️ LR увеличен в {growth_rate} раза: {learning_rate}')\n",
    "            \n",
    "        print(f'====================================\\n'\n",
    "              f'Total time: {time.time() - start:.2f}')\n",
    "        \n",
    "        return time_data, loss_data, acc_data\n",
    "    \n",
    "    def test(self, x_test, y_test):\n",
    "        correct = 0\n",
    "        for x, y in zip(x_test, y_test):\n",
    "            prediction = self.predict(x)\n",
    "            if prediction == y:\n",
    "                correct += 1\n",
    "\n",
    "        return correct / len(y_test) * 100\n",
    "\n",
    "    def predict(self, x):\n",
    "        self._forward(x)\n",
    "        return np.argmax(self.activations[-1])"
   ],
   "id": "3c0511c7efc32d0f",
   "outputs": [],
   "execution_count": 68
  },
  {
   "metadata": {},
   "cell_type": "markdown",
   "source": "### Обучение",
   "id": "76c51649e2203c4b"
  },
  {
   "metadata": {},
   "cell_type": "markdown",
   "source": "Начнем с одного скрытого слоя с 32 нейронами",
   "id": "97e170fc8d8714e1"
  },
  {
   "metadata": {
    "ExecuteTime": {
     "end_time": "2025-03-25T22:26:05.119171Z",
     "start_time": "2025-03-25T22:26:05.113590Z"
    }
   },
   "cell_type": "code",
   "source": [
    "input_ = x_train.shape[1]\n",
    "num_classes = len(np.unique(y_train))\n",
    "experiment_data = {}"
   ],
   "id": "eb3181b044bae743",
   "outputs": [],
   "execution_count": 224
  },
  {
   "metadata": {
    "ExecuteTime": {
     "end_time": "2025-03-25T22:53:12.603055Z",
     "start_time": "2025-03-25T22:50:26.217631Z"
    }
   },
   "cell_type": "code",
   "source": [
    "model1 = Network([input_, 32, num_classes])\n",
    "experiment_data[32] = (model1, model1.fit(x_train, y_train, x_test_small, y_test_small, epochs=20, learning_rate=0.01))"
   ],
   "id": "70f485f7c1a1c17f",
   "outputs": [
    {
     "name": "stdout",
     "output_type": "stream",
     "text": [
      "====================================\n",
      "Epoch 1/20\n",
      "Loss: 0.3472\n",
      "Accuracy: 75.79%\n",
      "====================================\n",
      "Epoch 2/20\n",
      "Loss: 0.2338\n",
      "Accuracy: 76.97%\n",
      "====================================\n",
      "Epoch 3/20\n",
      "Loss: 0.2147\n",
      "Accuracy: 77.36%\n",
      "====================================\n",
      "Epoch 4/20\n",
      "Loss: 0.1999\n",
      "Accuracy: 78.10%\n",
      "====================================\n",
      "Epoch 5/20\n",
      "Loss: 0.1897\n",
      "Accuracy: 78.65%\n",
      "====================================\n",
      "Epoch 6/20\n",
      "Loss: 0.1837\n",
      "Accuracy: 79.48%\n",
      "====================================\n",
      "Epoch 7/20\n",
      "Loss: 0.1807\n",
      "Accuracy: 79.09%\n",
      "====================================\n",
      "Epoch 8/20\n",
      "Loss: 0.1784\n",
      "Accuracy: 79.01%\n",
      "⚠️ LR увеличен в 2 раза: 0.02\n",
      "====================================\n",
      "Epoch 9/20\n",
      "Loss: 0.1571\n",
      "Accuracy: 75.22%\n",
      "====================================\n",
      "Epoch 10/20\n",
      "Loss: 0.1789\n",
      "Accuracy: 73.87%\n",
      "⚠️ LR уменьшен на 20%: 0.016\n",
      "====================================\n",
      "Epoch 11/20\n",
      "Loss: 0.1859\n",
      "Accuracy: 76.47%\n",
      "⚠️ LR уменьшен на 20%: 0.0128\n",
      "====================================\n",
      "Epoch 12/20\n",
      "Loss: 0.1952\n",
      "Accuracy: 78.86%\n",
      "⚠️ LR уменьшен на 20%: 0.01024\n",
      "====================================\n",
      "Epoch 13/20\n",
      "Loss: 0.2105\n",
      "Accuracy: 80.05%\n",
      "⚠️ LR уменьшен на 20%: 0.008192000000000001\n",
      "====================================\n",
      "Epoch 14/20\n",
      "Loss: 0.2292\n",
      "Accuracy: 81.33%\n",
      "⚠️ LR уменьшен на 20%: 0.0065536000000000014\n",
      "====================================\n",
      "Epoch 15/20\n",
      "Loss: 0.2498\n",
      "Accuracy: 82.46%\n",
      "⚠️ LR уменьшен на 20%: 0.005242880000000002\n",
      "====================================\n",
      "Epoch 16/20\n",
      "Loss: 0.2696\n",
      "Accuracy: 83.07%\n",
      "⚠️ LR уменьшен на 20%: 0.004194304000000002\n",
      "====================================\n",
      "Epoch 17/20\n",
      "Loss: 0.2890\n",
      "Accuracy: 83.38%\n",
      "⚠️ LR уменьшен на 20%: 0.003355443200000002\n",
      "====================================\n",
      "Epoch 18/20\n",
      "Loss: 0.3068\n",
      "Accuracy: 83.86%\n",
      "⚠️ LR уменьшен на 20%: 0.0026843545600000016\n",
      "====================================\n",
      "Epoch 19/20\n",
      "Loss: 0.3226\n",
      "Accuracy: 83.98%\n",
      "⚠️ LR уменьшен на 20%: 0.0021474836480000013\n",
      "====================================\n",
      "Epoch 20/20\n",
      "Loss: 0.3361\n",
      "Accuracy: 84.34%\n",
      "⚠️ LR уменьшен на 20%: 0.0017179869184000011\n",
      "====================================\n",
      "Total time: 166.38\n"
     ]
    }
   ],
   "execution_count": 263
  },
  {
   "metadata": {},
   "cell_type": "markdown",
   "source": "Попробуем увеличивать число нейронов",
   "id": "2072963cd7c503ca"
  },
  {
   "metadata": {
    "ExecuteTime": {
     "end_time": "2025-03-25T22:57:02.302257Z",
     "start_time": "2025-03-25T22:53:12.604060Z"
    }
   },
   "cell_type": "code",
   "source": [
    "model2 = Network([input_, 64, num_classes])\n",
    "experiment_data[64] = (model2, model2.fit(x_train, y_train, x_test_small, y_test_small, epochs=20, learning_rate=0.01, print_all=False))"
   ],
   "id": "dbb2f9d1f6c1f29a",
   "outputs": [
    {
     "name": "stdout",
     "output_type": "stream",
     "text": [
      "====================================\n",
      "Epoch 5/20\n",
      "Loss: 0.1123\n",
      "Accuracy: 83.72%\n",
      "⚠️ LR увеличен в 2 раза: 0.02\n",
      "⚠️ LR уменьшен на 20%: 0.016\n",
      "⚠️ LR уменьшен на 20%: 0.0128\n",
      "====================================\n",
      "Epoch 10/20\n",
      "Loss: 0.1155\n",
      "Accuracy: 83.00%\n",
      "⚠️ LR уменьшен на 20%: 0.01024\n",
      "⚠️ LR уменьшен на 20%: 0.008192000000000001\n",
      "⚠️ LR уменьшен на 20%: 0.0065536000000000014\n",
      "⚠️ LR уменьшен на 20%: 0.005242880000000002\n",
      "⚠️ LR уменьшен на 20%: 0.004194304000000002\n",
      "====================================\n",
      "Epoch 15/20\n",
      "Loss: 0.1786\n",
      "Accuracy: 86.65%\n",
      "⚠️ LR уменьшен на 20%: 0.003355443200000002\n",
      "⚠️ LR уменьшен на 20%: 0.0026843545600000016\n",
      "⚠️ LR уменьшен на 20%: 0.0021474836480000013\n",
      "⚠️ LR уменьшен на 20%: 0.0017179869184000011\n",
      "⚠️ LR уменьшен на 20%: 0.001374389534720001\n",
      "====================================\n",
      "Epoch 20/20\n",
      "Loss: 0.2233\n",
      "Accuracy: 87.86%\n",
      "⚠️ LR уменьшен на 20%: 0.001099511627776001\n",
      "====================================\n",
      "Total time: 229.69\n"
     ]
    }
   ],
   "execution_count": 264
  },
  {
   "metadata": {
    "ExecuteTime": {
     "end_time": "2025-03-25T23:03:12.088177Z",
     "start_time": "2025-03-25T22:57:02.302764Z"
    }
   },
   "cell_type": "code",
   "source": [
    "model3 = Network([input_, 128, num_classes])\n",
    "experiment_data[128] = (model3, model3.fit(x_train, y_train, x_test_small, y_test_small, epochs=20, learning_rate=0.01, print_all=False))"
   ],
   "id": "a19a639c467b5c83",
   "outputs": [
    {
     "name": "stdout",
     "output_type": "stream",
     "text": [
      "====================================\n",
      "Epoch 5/20\n",
      "Loss: 0.0688\n",
      "Accuracy: 85.89%\n",
      "⚠️ LR увеличен в 2 раза: 0.02\n",
      "====================================\n",
      "Epoch 10/20\n",
      "Loss: 0.0603\n",
      "Accuracy: 81.15%\n",
      "⚠️ LR уменьшен на 20%: 0.016\n",
      "⚠️ LR уменьшен на 20%: 0.0128\n",
      "⚠️ LR уменьшен на 20%: 0.01024\n",
      "⚠️ LR уменьшен на 20%: 0.008192000000000001\n",
      "⚠️ LR уменьшен на 20%: 0.0065536000000000014\n",
      "====================================\n",
      "Epoch 15/20\n",
      "Loss: 0.0860\n",
      "Accuracy: 87.76%\n",
      "⚠️ LR уменьшен на 20%: 0.005242880000000002\n",
      "⚠️ LR уменьшен на 20%: 0.004194304000000002\n",
      "⚠️ LR уменьшен на 20%: 0.003355443200000002\n",
      "⚠️ LR уменьшен на 20%: 0.0026843545600000016\n",
      "⚠️ LR уменьшен на 20%: 0.0021474836480000013\n",
      "====================================\n",
      "Epoch 20/20\n",
      "Loss: 0.1164\n",
      "Accuracy: 89.12%\n",
      "⚠️ LR уменьшен на 20%: 0.0017179869184000011\n",
      "====================================\n",
      "Total time: 369.78\n"
     ]
    }
   ],
   "execution_count": 265
  },
  {
   "metadata": {
    "jupyter": {
     "is_executing": true
    },
    "ExecuteTime": {
     "start_time": "2025-03-25T23:03:12.088177Z"
    }
   },
   "cell_type": "code",
   "source": [
    "model4 = Network([input_, 256, num_classes])\n",
    "experiment_data[256] = (model4, model4.fit(x_train, y_train, x_test_small, y_test_small, epochs=20, learning_rate=0.01, print_all=False))"
   ],
   "id": "d165e9e0baf65d6c",
   "outputs": [],
   "execution_count": null
  },
  {
   "metadata": {},
   "cell_type": "markdown",
   "source": "Добавим ещё один слой",
   "id": "2dbd3d8215a1b85e"
  },
  {
   "metadata": {
    "jupyter": {
     "is_executing": true
    }
   },
   "cell_type": "code",
   "source": [
    "model5 = Network([input_, 64, 32, num_classes])\n",
    "experiment_data[64*32] = (model5, model5.fit(x_train, y_train, x_test_small, y_test_small, epochs=20, learning_rate=0.01, print_all=False))"
   ],
   "id": "2d9f8c399d38af01",
   "outputs": [],
   "execution_count": null
  },
  {
   "metadata": {
    "jupyter": {
     "is_executing": true
    }
   },
   "cell_type": "code",
   "source": [
    "model6 = Network([input_, 128, 64, num_classes])\n",
    "experiment_data[128*64] = (model6, model6.fit(x_train, y_train, x_test_small, y_test_small, epochs=20, learning_rate=0.01, print_all=False))"
   ],
   "id": "32b5867eb89554d0",
   "outputs": [],
   "execution_count": null
  },
  {
   "metadata": {
    "jupyter": {
     "is_executing": true
    }
   },
   "cell_type": "code",
   "source": [
    "model7 = Network([input_, 256, 128, num_classes])\n",
    "experiment_data[256*128] = (model7, model7.fit(x_train, y_train, x_test_small, y_test_small, epochs=20, learning_rate=0.01, print_all=False))"
   ],
   "id": "fdb963bdfda112e0",
   "outputs": [],
   "execution_count": null
  },
  {
   "metadata": {
    "jupyter": {
     "is_executing": true
    }
   },
   "cell_type": "code",
   "source": [
    "model8 = Network([input_, 512, 256, num_classes])\n",
    "experiment_data[512*256] = (model8, model8.fit(x_train, y_train, x_test_small, y_test_small, epochs=20, learning_rate=0.01, print_all=False))"
   ],
   "id": "f7e893c307f1201c",
   "outputs": [],
   "execution_count": null
  },
  {
   "metadata": {},
   "cell_type": "markdown",
   "source": [
    "### Анализ\n",
    "Теперь у нас есть несколько обученных моделей и данные об их обучении для сравнения. Построим графики зависимости от числа нейронов точности классификации на валидационных данных и времени обучения"
   ],
   "id": "a752d932333ff312"
  },
  {
   "metadata": {
    "ExecuteTime": {
     "end_time": "2025-03-25T21:24:47.640498Z",
     "start_time": "2025-03-25T21:24:44.848839Z"
    }
   },
   "cell_type": "code",
   "source": [
    "x_axis = list(experiment_data.keys())  # число нейронов в скрытом слое\n",
    "y_time = [round(sum(experiment_data[i][1][0]) / 60, 2) for i in x_axis]  # общее время обучения i модели\n",
    "\n",
    "y_valid_accs = [round(experiment_data[i][0].test(x_valid, y_valid), 2) for i in x_axis]"
   ],
   "id": "34ffe05e6562b8f0",
   "outputs": [],
   "execution_count": 158
  },
  {
   "metadata": {
    "ExecuteTime": {
     "end_time": "2025-03-25T22:05:43.811854Z",
     "start_time": "2025-03-25T22:05:43.662503Z"
    }
   },
   "cell_type": "code",
   "source": [
    "import seaborn as sns\n",
    "%matplotlib inline\n",
    "\n",
    "x_labels = ['32', '64', '128', '256', '64x32', '128x64', '256x128', '512x256']\n",
    "x_numeric = range(len(x_labels))\n",
    "\n",
    "sns.set(style='darkgrid')\n",
    "fig, axes = plt.subplots(1, 2, figsize=(12, 4))\n",
    "\n",
    "sns.lineplot(ax=axes[0], x=x_numeric, y=y_valid_accs, marker='o', markersize=8, linewidth=2, color='#2d9642')\n",
    "axes[0].set_xticks(x_numeric)\n",
    "axes[0].set_xticklabels(x_labels, rotation=45, fontsize=12)\n",
    "axes[0].set_xlabel('Number of neurons')\n",
    "axes[0].set_ylabel('Validation accuracy, %')\n",
    "axes[0].set_title('Validation accuracy depends on the number of neurons')\n",
    "for i, txt in enumerate(y_valid_accs):\n",
    "    axes[0].text(x_numeric[i], y_valid_accs[i], str(txt), fontsize=12, ha='right', va='bottom')\n",
    "\n",
    "sns.lineplot(ax=axes[1], x=x_numeric, y=y_time, marker='o', markersize=8, linewidth=2, color='#db2e2e')\n",
    "axes[1].set_xticks(x_numeric)\n",
    "axes[1].set_xticklabels(x_labels, rotation=45, fontsize=12)\n",
    "axes[1].set_xlabel('Number of neurons')\n",
    "axes[1].set_ylabel('Training time, min')\n",
    "axes[1].set_title('Training time depends on the number of neurons')\n",
    "\n",
    "plt.tight_layout()\n",
    "plt.show()"
   ],
   "id": "2d970cd7279a54c6",
   "outputs": [
    {
     "data": {
      "text/plain": [
       "<Figure size 1200x400 with 2 Axes>"
      ],
      "image/png": "[encoded data removed]"
     },
     "metadata": {},
     "output_type": "display_data"
    }
   ],
   "execution_count": 205
  },
  {
   "metadata": {},
   "cell_type": "markdown",
   "source": [
    "Из графиков можно сделать вывод, что, хоть и точность с наращиванием сложности сети растёт, это происходит очень медленно, а время обучения модели при этом растёт экспоненциально, а возможно и быстрее. \n",
    "\n",
    "Посмотрим на соотношения  $\\frac{точность}{время\\ обучения}$ для всех моделей:"
   ],
   "id": "69b0a8d922ebaccd"
  },
  {
   "metadata": {
    "ExecuteTime": {
     "end_time": "2025-03-25T22:09:31.975816Z",
     "start_time": "2025-03-25T22:09:31.918634Z"
    }
   },
   "cell_type": "code",
   "source": [
    "import matplotlib.pyplot as plt\n",
    "\n",
    "plt.figure(figsize=(10, 4))\n",
    "sns.barplot(x=x_numeric, y=np.array(y_valid_accs) / np.array(y_time))\n",
    "plt.xticks(x_numeric, x_labels)\n",
    "plt.show()"
   ],
   "id": "de78c0fde18128ef",
   "outputs": [
    {
     "data": {
      "text/plain": [
       "<Figure size 1000x400 with 1 Axes>"
      ],
      "image/png": "[encoded data removed]"
     },
     "metadata": {},
     "output_type": "display_data"
    }
   ],
   "execution_count": 218
  },
  {
   "metadata": {},
   "cell_type": "markdown",
   "source": "Выбор в пользу той или иной модели нужно делать исходя из задач, которые предстоит выполнять и имеющихся ресурсов.",
   "id": "31d214d45ae14ef3"
  },
  {
   "metadata": {
    "ExecuteTime": {
     "end_time": "2025-03-25T22:26:51.430482Z",
     "start_time": "2025-03-25T22:26:51.427481Z"
    }
   },
   "cell_type": "code",
   "source": [
    "def confusion_matrix(y_true, y_pred, num_classes):\n",
    "    cm = np.zeros((num_classes, num_classes), dtype=int)\n",
    "\n",
    "    for true_label, pred_label in zip(y_true, y_pred):\n",
    "        cm[true_label, pred_label] += 1\n",
    "\n",
    "    return cm"
   ],
   "id": "552d5bf3ca6d76b6",
   "outputs": [],
   "execution_count": 229
  },
  {
   "metadata": {
    "ExecuteTime": {
     "end_time": "2025-03-25T22:30:18.086471Z",
     "start_time": "2025-03-25T22:30:18.083501Z"
    }
   },
   "cell_type": "code",
   "source": [
    "with open('data/emnist/emnist-letters-mapping.txt', 'r') as mapping_file:\n",
    "    idx = {}\n",
    "    for line in mapping_file.readlines():\n",
    "        items = line.split()\n",
    "        idx[str(int(items[0])-1)] = int(items[1])"
   ],
   "id": "c3a39a3124238517",
   "outputs": [],
   "execution_count": 233
  },
  {
   "metadata": {
    "jupyter": {
     "is_executing": true
    }
   },
   "cell_type": "code",
   "source": [
    "import string\n",
    "\n",
    "plt.figure(figsize=(10, 8))\n",
    "labels = string.ascii_lowercase\n",
    "for k, item in enumerate(experiment_data.items(), 1):\n",
    "    model = item[1][0]\n",
    "    predictions = [model.predict(x_test[i]) for i in range(len(x_test))]\n",
    "    cm = confusion_matrix(y_test, predictions, num_classes)\n",
    "    plt.subplot(2, 2, k)\n",
    "    sns.heatmap(cm, annot=True, fmt='d', cmap='Reds', xticklabels=labels, yticklabels=labels)\n",
    "    \n",
    "    plt.xlabel('Predicted labels')\n",
    "    plt.ylabel('True labels')\n",
    "    plt.title(f'Confusion Matrix {k}')\n",
    "    \n",
    "plt.tight_layout()\n",
    "plt.show()"
   ],
   "id": "9d9e009cf87c025a",
   "outputs": [],
   "execution_count": null
  },
  {
   "metadata": {
    "ExecuteTime": {
     "end_time": "2025-03-25T21:56:26.020375Z",
     "start_time": "2025-03-25T21:56:26.016570Z"
    }
   },
   "cell_type": "code",
   "source": [
    "def visualize(images, predictions, real, num_images=5):\n",
    "    fig, axes = plt.subplots(1, num_images, figsize=(15, 5))\n",
    "    for i in range(num_images):\n",
    "        axes[i].imshow(images[i].reshape(28, 28), cmap='gray')\n",
    "        axes[i].set_title(f'Prediction: {chr(idx[str(predictions[i])])}\\nActual: {chr(idx[str(real[i])])}')\n",
    "        axes[i].axis('off')\n",
    "    plt.show()"
   ],
   "id": "daf41c7070e57a5a",
   "outputs": [],
   "execution_count": 199
  },
  {
   "metadata": {
    "ExecuteTime": {
     "end_time": "2025-03-25T21:47:00.832809Z",
     "start_time": "2025-03-25T21:47:00.730715Z"
    }
   },
   "cell_type": "code",
   "source": [
    "predictions = []\n",
    "count = 5\n",
    "x = []\n",
    "y = []\n",
    "for i in range(count):\n",
    "    i_x = np.random.randint(0, x_valid.shape[0])\n",
    "    x.append(x_valid[i_x])\n",
    "    y.append(y_valid[i_x])\n",
    "    predictions.append(model8.predict(x_valid[i_x]))\n",
    "visualize(x, predictions, y, count)"
   ],
   "id": "bdc24285a6d81de7",
   "outputs": [
    {
     "data": {
      "text/plain": [
       "<Figure size 1500x500 with 5 Axes>"
      ],
      "image/png": "[encoded data removed]"
     },
     "metadata": {},
     "output_type": "display_data"
    }
   ],
   "execution_count": 192
  },
  {
   "metadata": {},
   "cell_type": "code",
   "source": "",
   "id": "2184ddbe63d6367a",
   "outputs": [],
   "execution_count": null
  }
 ],
 "metadata": {
  "kernelspec": {
   "display_name": "Python 3",
   "language": "python",
   "name": "python3"
  },
  "language_info": {
   "codemirror_mode": {
    "name": "ipython",
    "version": 2
   },
   "file_extension": ".py",
   "mimetype": "text/x-python",
   "name": "python",
   "nbconvert_exporter": "python",
   "pygments_lexer": "ipython2",
   "version": "2.7.6"
  }
 },
 "nbformat": 4,
 "nbformat_minor": 5
}
