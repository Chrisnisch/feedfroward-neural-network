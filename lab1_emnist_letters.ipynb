{
 "cells": [
  {
   "metadata": {},
   "cell_type": "markdown",
   "source": [
    "# Лабораторная №1 - Нейронная сеть прямого распространения\n",
    "\n",
    "## Решаемая задача: распознавание рукописных символов"
   ],
   "id": "2a82d8bf2c0aa4fb"
  },
  {
   "metadata": {},
   "cell_type": "markdown",
   "source": [
    "### Подготовка данных\n",
    "В качестве датасета используется emnist-letters. Он содержит 26 сбалансированных классов - рукописные буквы латинского алфавита (строчные и прописные) в градациях серого, 28x28 пикселей."
   ],
   "id": "62a4512e4fd07695"
  },
  {
   "metadata": {},
   "cell_type": "markdown",
   "source": "Прочитаем данные в ndarray с помощью idx2numpy",
   "id": "8f2df9d2ec4084c6"
  },
  {
   "cell_type": "code",
   "id": "initial_id",
   "metadata": {
    "collapsed": true,
    "ExecuteTime": {
     "end_time": "2025-03-22T10:09:23.795811Z",
     "start_time": "2025-03-22T10:09:23.579682Z"
    }
   },
   "source": [
    "import idx2numpy\n",
    "import numpy as np\n",
    "\n",
    "x_train = np.array(idx2numpy.convert_from_file('./data/emnist/emnist-letters-train-images-idx3-ubyte')).astype('float32')\n",
    "y_train = np.array(idx2numpy.convert_from_file('./data/emnist/emnist-letters-train-labels-idx1-ubyte'))\n",
    "\n",
    "x_test = np.array(idx2numpy.convert_from_file('./data/emnist/emnist-letters-test-images-idx3-ubyte')).astype('float32')\n",
    "y_test = np.array(idx2numpy.convert_from_file('./data/emnist/emnist-letters-test-labels-idx1-ubyte'))"
   ],
   "outputs": [],
   "execution_count": 2
  },
  {
   "metadata": {
    "ExecuteTime": {
     "end_time": "2025-03-22T10:09:24.224808Z",
     "start_time": "2025-03-22T10:09:23.795811Z"
    }
   },
   "cell_type": "code",
   "source": [
    "import matplotlib.pyplot as plt\n",
    "\n",
    "plt.figure()\n",
    "plt.imshow(x_train[100], cmap='gray')\n",
    "plt.colorbar()\n",
    "plt.grid(False)"
   ],
   "id": "c6faa0e54ccdec69",
   "outputs": [
    {
     "data": {
      "text/plain": [
       "<Figure size 640x480 with 2 Axes>"
      ],
      "image/png": "[encoded data removed]"
     },
     "metadata": {},
     "output_type": "display_data"
    }
   ],
   "execution_count": 3
  },
  {
   "metadata": {},
   "cell_type": "markdown",
   "source": [
    "Изначально изображения в не очень удобном формате: цвет каждого пикселя изменяется от 0 до 255, отражены и перевёрнуты. \n",
    "\n",
    "Чтобы расчеты были эффективнее, разделим все значения на максимальное. Также отразим и перевернем изображения."
   ],
   "id": "c7b19d54cefbe91c"
  },
  {
   "metadata": {
    "ExecuteTime": {
     "end_time": "2025-03-22T10:09:24.243245Z",
     "start_time": "2025-03-22T10:09:24.225812Z"
    }
   },
   "cell_type": "code",
   "source": [
    "x_train /= 255\n",
    "x_test /= 255\n",
    "\n",
    "x_train = np.fliplr(x_train)\n",
    "x_test = np.fliplr(x_test)\n",
    "\n",
    "x_train = np.rot90(x_train, k=3, axes=(1, 2))\n",
    "x_test = np.rot90(x_test, k=3, axes=(1, 2))"
   ],
   "id": "c6755b715b7ac635",
   "outputs": [],
   "execution_count": 4
  },
  {
   "metadata": {},
   "cell_type": "markdown",
   "source": "Также преобразуем каждое изображение из матрицы 28x28 в строки из 784 элементов",
   "id": "1f349cc13ba38c56"
  },
  {
   "metadata": {
    "ExecuteTime": {
     "end_time": "2025-03-22T10:09:24.946010Z",
     "start_time": "2025-03-22T10:09:24.823808Z"
    }
   },
   "cell_type": "code",
   "source": [
    "x_train = x_train.reshape(x_train.shape[0], 784)\n",
    "x_test = x_test.reshape(x_test.shape[0], 784)"
   ],
   "id": "adf30f35a6452c0b",
   "outputs": [],
   "execution_count": 5
  },
  {
   "metadata": {
    "ExecuteTime": {
     "end_time": "2025-03-22T10:09:25.681946Z",
     "start_time": "2025-03-22T10:09:25.545782Z"
    }
   },
   "cell_type": "code",
   "source": [
    "import matplotlib.pyplot as plt\n",
    "\n",
    "plt.figure()\n",
    "plt.imshow(x_train[100].reshape(28, 28), cmap='gray')\n",
    "plt.colorbar()\n",
    "plt.grid(False)"
   ],
   "id": "ea02a03a33a3932f",
   "outputs": [
    {
     "data": {
      "text/plain": [
       "<Figure size 640x480 with 2 Axes>"
      ],
      "image/png": "[encoded data removed]"
     },
     "metadata": {},
     "output_type": "display_data"
    }
   ],
   "execution_count": 6
  },
  {
   "metadata": {},
   "cell_type": "markdown",
   "source": "В массивах правильных ответов из каждого значения вычтем 1, чтобы удобнее было индексировать",
   "id": "f1053169e153c922"
  },
  {
   "metadata": {
    "ExecuteTime": {
     "end_time": "2025-03-22T10:09:26.671145Z",
     "start_time": "2025-03-22T10:09:26.668588Z"
    }
   },
   "cell_type": "code",
   "source": [
    "y_train -= 1\n",
    "y_test -= 1"
   ],
   "id": "56dadcfe3ca5de1a",
   "outputs": [],
   "execution_count": 7
  },
  {
   "metadata": {},
   "cell_type": "markdown",
   "source": [
    "### Реализация сети\n",
    "\n",
    "Класс Network - представляет сеть прямого распространения с произвольным числом слоёв, количеством нейронов в каждом, изменяемыми функциями активации (по умолчанию для скрытых слоёв ReLU, для выходного слоя softmax)"
   ],
   "id": "1c34f83912f25b6e"
  },
  {
   "metadata": {
    "ExecuteTime": {
     "end_time": "2025-03-22T10:09:27.201417Z",
     "start_time": "2025-03-22T10:09:27.190907Z"
    }
   },
   "cell_type": "code",
   "source": [
    "import time\n",
    "\n",
    "def ReLU(x, derivative=False):\n",
    "    return x * (x > 0) if not derivative else x > 0\n",
    "\n",
    "\n",
    "def softmax(x):\n",
    "    exp_x = np.exp(x - np.max(x))\n",
    "    return exp_x / exp_x.sum(axis=1, keepdims=True)\n",
    "\n",
    "class Network:\n",
    "\n",
    "    def __init__(self, sizes, activation_func=ReLU, output_func=softmax):\n",
    "        self.sizes = sizes\n",
    "        self.activation_func = activation_func\n",
    "        self.output_func = output_func\n",
    "        # self._norm_init()\n",
    "        # self._xavier_init()\n",
    "        self._he_init()\n",
    "\n",
    "    def _norm_init(self):\n",
    "        \n",
    "        self.weights = []\n",
    "        self.biases = []\n",
    "        self.activations = []\n",
    "        self.deltaW = []\n",
    "        self.deltaB = []\n",
    "        \n",
    "        for i in range(1, len(self.sizes)):\n",
    "            self.weights.append(0 + 0.5 * np.random.randn(self.sizes[i-1], self.sizes[i]))\n",
    "            self.biases.append(np.zeros((1, self.sizes[i])))\n",
    "\n",
    "    def _xavier_init(self):\n",
    "        \n",
    "        self.weights = []\n",
    "        self.biases = []\n",
    "        self.activations = []\n",
    "        self.deltaW = []\n",
    "        self.deltaB = []\n",
    "        \n",
    "        for i in range(1, len(self.sizes)):\n",
    "            left, right = self.sizes[i-1], self.sizes[i]\n",
    "            limit = np.sqrt(6 / (left + right))\n",
    "            self.weights.append(np.random.uniform(-limit, limit, size=(left, right)))\n",
    "            self.biases.append(np.zeros((1, self.sizes[i])))\n",
    "            \n",
    "    def _he_init(self):\n",
    "        self.weights = []\n",
    "        self.biases = []\n",
    "        self.activations = []\n",
    "        self.deltaW = []\n",
    "        self.deltaB = []\n",
    "        \n",
    "        for i in range(1, len(self.sizes)):\n",
    "            left, right = self.sizes[i-1], self.sizes[i]\n",
    "            limit = np.sqrt(2 / left)\n",
    "            self.weights.append(np.random.uniform(-limit, limit, size=(left, right)))\n",
    "            self.biases.append(np.zeros((1, self.sizes[i])))\n",
    "       \n",
    "    def _forward(self, x):\n",
    "        self.activations = [np.array(x).reshape(1, len(x))]\n",
    "        \n",
    "        for i in range(len(self.sizes)-2):\n",
    "            self.activations.append(self.activation_func(np.dot(self.activations[-1], self.weights[i]) + self.biases[i]))\n",
    "\n",
    "        self.activations.append(self.output_func(np.dot(self.activations[-1], self.weights[-1]) + self.biases[-1]))\n",
    "        \n",
    "        return self.activations[-1]\n",
    "\n",
    "    def _backprop(self, y_valid):\n",
    "        self.deltaW = []\n",
    "        self.deltaB = []\n",
    "        error = self.activations[len(self.sizes)-1] - y_valid\n",
    "        \n",
    "        for i in range(len(self.sizes)-2, -1, -1):\n",
    "            self.deltaW.insert(0, np.dot(self.activations[i].T, error))\n",
    "            self.deltaB.insert(0, np.sum(error, axis=0, keepdims=True))\n",
    "            error = np.dot(error, self.weights[i].T) * ReLU(self.activations[i], derivative=True)\n",
    "\n",
    "    def _update_params(self, learning_rate):\n",
    "        \n",
    "        for i in range(len(self.weights)):\n",
    "            self.weights[i] -= learning_rate * self.deltaW[i]\n",
    "            self.biases[i] -= learning_rate * self.deltaB[i]\n",
    "        \n",
    "    def _onehot(self, y):\n",
    "        one_hot = np.zeros((1, self.sizes[-1]))\n",
    "        one_hot[0, y] = 1\n",
    "        return one_hot\n",
    "        \n",
    "    def fit(self, x_train, y_train, x_test, y_test, epochs, learning_rate, print_all=True):\n",
    "        time_data = []\n",
    "        loss_data = []\n",
    "        acc_data = []\n",
    "        start = time.time()\n",
    "        for epoch in range(epochs):\n",
    "            total_loss = 0\n",
    "            epoch_start = time.time()\n",
    "            for x, y in zip(x_train, y_train):\n",
    "                y_onehot = self._onehot(y)\n",
    "                self._forward(x)\n",
    "                self._backprop(y_onehot)\n",
    "                self._update_params(learning_rate)\n",
    "                self._forward(x)\n",
    "                output = self.activations[-1]\n",
    "                loss = -np.sum(y_onehot * np.log(output + 1e-8))\n",
    "                total_loss += loss\n",
    "            avg_loss = total_loss / len(x_train)\n",
    "            loss_data.append(avg_loss)\n",
    "            accuracy = self.test(x_test, y_test)\n",
    "            acc_data.append(accuracy)\n",
    "            if print_all or (epoch + 1) % 5 == 0:\n",
    "                print(f\"====================================\\n\"\n",
    "                      f\"Epoch {epoch + 1}/{epochs}\\nLoss: {avg_loss:.4f}\")\n",
    "                print(f'Accuracy: {accuracy:.2f}%')\n",
    "            time_data.append(time.time() - epoch_start)\n",
    "        print(f'====================================\\n'\n",
    "              f'Total time: {time.time() - start:.2f}')\n",
    "        \n",
    "        return time_data, loss_data, acc_data\n",
    "    \n",
    "    def test(self, x_test, y_test):\n",
    "        correct = 0\n",
    "        for x, y in zip(x_test, y_test):\n",
    "            prediction = self.predict(x)\n",
    "            if prediction == y:\n",
    "                correct += 1\n",
    "\n",
    "        return correct / len(y_test) * 100\n",
    "\n",
    "    def predict(self, x):\n",
    "        self._forward(x)\n",
    "        return np.argmax(self.activations[-1])"
   ],
   "id": "3c0511c7efc32d0f",
   "outputs": [],
   "execution_count": 8
  },
  {
   "metadata": {},
   "cell_type": "markdown",
   "source": "Начнем с одного скрытого слоя с 32 нейронами",
   "id": "97e170fc8d8714e1"
  },
  {
   "metadata": {
    "ExecuteTime": {
     "end_time": "2025-03-22T10:14:02.694578Z",
     "start_time": "2025-03-22T10:12:37.293141Z"
    }
   },
   "cell_type": "code",
   "source": [
    "input_ = x_train.shape[1]  # размерность входных данных\n",
    "output = len(np.unique(y_train))  # количество классов\n",
    "experiment_data = {}\n",
    "\n",
    "model1 = Network([input_, 32, output])\n",
    "experiment_data[32] = (model1, model1.fit(x_train, y_train, x_test[:len(x_test)//2], y_test[:len(y_test)//2], epochs=10, learning_rate=0.01))"
   ],
   "id": "70f485f7c1a1c17f",
   "outputs": [
    {
     "name": "stdout",
     "output_type": "stream",
     "text": [
      "====================================\n",
      "Epoch 1/10\n",
      "Loss: 0.3390\n",
      "Accuracy: 74.89%\n",
      "====================================\n",
      "Epoch 2/10\n",
      "Loss: 0.2291\n",
      "Accuracy: 74.70%\n",
      "====================================\n",
      "Epoch 3/10\n",
      "Loss: 0.2119\n",
      "Accuracy: 75.65%\n",
      "====================================\n",
      "Epoch 4/10\n",
      "Loss: 0.2077\n",
      "Accuracy: 76.15%\n",
      "====================================\n",
      "Epoch 5/10\n",
      "Loss: 0.2055\n",
      "Accuracy: 76.10%\n",
      "====================================\n",
      "Epoch 6/10\n",
      "Loss: 0.2011\n",
      "Accuracy: 76.94%\n",
      "====================================\n",
      "Epoch 7/10\n",
      "Loss: 0.1974\n",
      "Accuracy: 76.13%\n",
      "====================================\n",
      "Epoch 8/10\n",
      "Loss: 0.1947\n",
      "Accuracy: 76.07%\n",
      "====================================\n",
      "Epoch 9/10\n",
      "Loss: 0.1913\n",
      "Accuracy: 75.49%\n",
      "====================================\n",
      "Epoch 10/10\n",
      "Loss: 0.1892\n",
      "Accuracy: 75.53%\n",
      "====================================\n",
      "Total time: 85.39\n"
     ]
    }
   ],
   "execution_count": 11
  },
  {
   "metadata": {},
   "cell_type": "markdown",
   "source": "Попробуем увеличивать число нейронов",
   "id": "2072963cd7c503ca"
  },
  {
   "metadata": {
    "ExecuteTime": {
     "end_time": "2025-03-21T21:45:29.656999Z",
     "start_time": "2025-03-21T21:43:40.329949Z"
    }
   },
   "cell_type": "code",
   "source": [
    "model2 = Network([input_, 64, output])\n",
    "experiment_data[64] = (model2, model2.fit(x_train, y_train, x_test[:len(x_test)//2], y_test[:len(y_test)//2], epochs=10, learning_rate=0.01))"
   ],
   "id": "dbb2f9d1f6c1f29a",
   "outputs": [
    {
     "name": "stdout",
     "output_type": "stream",
     "text": [
      "====================================\n",
      "Epoch 1/10\n",
      "Loss: 0.2418\n",
      "Accuracy: 78.27%\n",
      "====================================\n",
      "Epoch 2/10\n",
      "Loss: 0.1380\n",
      "Accuracy: 80.28%\n",
      "====================================\n",
      "Epoch 3/10\n",
      "Loss: 0.1254\n",
      "Accuracy: 81.30%\n",
      "====================================\n",
      "Epoch 4/10\n",
      "Loss: 0.1166\n",
      "Accuracy: 81.72%\n",
      "====================================\n",
      "Epoch 5/10\n",
      "Loss: 0.1110\n",
      "Accuracy: 81.27%\n",
      "====================================\n",
      "Epoch 6/10\n",
      "Loss: 0.1074\n",
      "Accuracy: 81.60%\n",
      "====================================\n",
      "Epoch 7/10\n",
      "Loss: 0.1034\n",
      "Accuracy: 81.65%\n",
      "====================================\n",
      "Epoch 8/10\n",
      "Loss: 0.1017\n",
      "Accuracy: 82.29%\n",
      "====================================\n",
      "Epoch 9/10\n",
      "Loss: 0.0996\n",
      "Accuracy: 81.82%\n",
      "====================================\n",
      "Epoch 10/10\n",
      "Loss: 0.0975\n",
      "Accuracy: 82.02%\n",
      "====================================\n",
      "Total time: 109.32\n"
     ]
    }
   ],
   "execution_count": 15
  },
  {
   "metadata": {
    "ExecuteTime": {
     "end_time": "2025-03-21T21:48:15.005515Z",
     "start_time": "2025-03-21T21:45:29.658004Z"
    }
   },
   "cell_type": "code",
   "source": [
    "model3 = Network([input_, 128, output])\n",
    "experiment_data[128] = (model3, model3.fit(x_train, y_train, x_test[:len(x_test)//2], y_test[:len(y_test)//2], epochs=10, learning_rate=0.01, print_all=False))"
   ],
   "id": "a19a639c467b5c83",
   "outputs": [
    {
     "name": "stdout",
     "output_type": "stream",
     "text": [
      "====================================\n",
      "Epoch 5/10\n",
      "Loss: 0.0647\n",
      "Accuracy: 84.13%\n",
      "====================================\n",
      "Epoch 10/10\n",
      "Loss: 0.0502\n",
      "Accuracy: 84.96%\n",
      "====================================\n",
      "Total time: 165.34\n"
     ]
    }
   ],
   "execution_count": 16
  },
  {
   "metadata": {
    "ExecuteTime": {
     "end_time": "2025-03-21T22:06:38.333555Z",
     "start_time": "2025-03-21T21:53:47.585756Z"
    }
   },
   "cell_type": "code",
   "source": [
    "model4 = Network([input_, 256, output])\n",
    "experiment_data[256] = (model4, model4.fit(x_train, y_train, x_test[:len(x_test)//2], y_test[:len(y_test)//2], epochs=10, learning_rate=0.01, print_all=False))"
   ],
   "id": "d165e9e0baf65d6c",
   "outputs": [
    {
     "name": "stdout",
     "output_type": "stream",
     "text": [
      "====================================\n",
      "Epoch 5/10\n",
      "Loss: 0.0463\n",
      "Accuracy: 85.40%\n",
      "====================================\n",
      "Epoch 10/10\n",
      "Loss: 0.0324\n",
      "Accuracy: 85.50%\n",
      "====================================\n",
      "Total time: 770.74\n"
     ]
    }
   ],
   "execution_count": 17
  },
  {
   "metadata": {
    "ExecuteTime": {
     "end_time": "2025-03-21T22:08:48.489176Z",
     "start_time": "2025-03-21T22:06:38.334558Z"
    }
   },
   "cell_type": "code",
   "source": [
    "model5 = Network([input_, 64, 32, output])\n",
    "experiment_data[64*32] = (model5, model5.fit(x_train, y_train, x_test[:len(x_test)//2], y_test[:len(y_test)//2], epochs=10, learning_rate=0.01, print_all=False))"
   ],
   "id": "2d9f8c399d38af01",
   "outputs": [
    {
     "name": "stdout",
     "output_type": "stream",
     "text": [
      "====================================\n",
      "Epoch 5/10\n",
      "Loss: 0.1318\n",
      "Accuracy: 78.83%\n",
      "====================================\n",
      "Epoch 10/10\n",
      "Loss: 0.1254\n",
      "Accuracy: 81.22%\n",
      "====================================\n",
      "Total time: 130.15\n"
     ]
    }
   ],
   "execution_count": 18
  },
  {
   "metadata": {
    "ExecuteTime": {
     "end_time": "2025-03-21T22:11:59.111239Z",
     "start_time": "2025-03-21T22:08:48.490181Z"
    }
   },
   "cell_type": "code",
   "source": [
    "model6 = Network([input_, 128, 64, output])\n",
    "experiment_data[128*64] = (model6, model6.fit(x_train, y_train, x_test[:len(x_test)//2], y_test[:len(y_test)//2], epochs=10, learning_rate=0.01, print_all=False))"
   ],
   "id": "32b5867eb89554d0",
   "outputs": [
    {
     "name": "stdout",
     "output_type": "stream",
     "text": [
      "====================================\n",
      "Epoch 5/10\n",
      "Loss: 0.0768\n",
      "Accuracy: 82.88%\n",
      "====================================\n",
      "Epoch 10/10\n",
      "Loss: 0.0720\n",
      "Accuracy: 83.98%\n",
      "====================================\n",
      "Total time: 190.62\n"
     ]
    }
   ],
   "execution_count": 19
  },
  {
   "metadata": {
    "ExecuteTime": {
     "end_time": "2025-03-21T22:27:10.643375Z",
     "start_time": "2025-03-21T22:11:59.112243Z"
    }
   },
   "cell_type": "code",
   "source": [
    "model7 = Network([input_, 256, 128, output])\n",
    "experiment_data[256*128] = (model7, model7.fit(x_train, y_train, x_test[:len(x_test)//2], y_test[:len(y_test)//2], epochs=10, learning_rate=0.01, print_all=False))"
   ],
   "id": "fdb963bdfda112e0",
   "outputs": [
    {
     "name": "stdout",
     "output_type": "stream",
     "text": [
      "====================================\n",
      "Epoch 5/10\n",
      "Loss: 0.0458\n",
      "Accuracy: 87.14%\n",
      "====================================\n",
      "Epoch 10/10\n",
      "Loss: 0.0379\n",
      "Accuracy: 86.21%\n",
      "====================================\n",
      "Total time: 911.53\n"
     ]
    }
   ],
   "execution_count": 20
  },
  {
   "metadata": {
    "ExecuteTime": {
     "end_time": "2025-03-21T23:09:20.576750Z",
     "start_time": "2025-03-21T22:27:10.644379Z"
    }
   },
   "cell_type": "code",
   "source": [
    "model8 = Network([input_, 512, 256, output])\n",
    "experiment_data[512*256] = (model8, model8.fit(x_train, y_train, x_test[:len(x_test)//2], y_test[:len(y_test)//2], epochs=10, learning_rate=0.01, print_all=False))"
   ],
   "id": "f7e893c307f1201c",
   "outputs": [
    {
     "name": "stdout",
     "output_type": "stream",
     "text": [
      "====================================\n",
      "Epoch 5/10\n",
      "Loss: 0.0335\n",
      "Accuracy: 86.65%\n",
      "====================================\n",
      "Epoch 10/10\n",
      "Loss: 0.0264\n",
      "Accuracy: 86.53%\n",
      "====================================\n",
      "Total time: 2529.92\n"
     ]
    }
   ],
   "execution_count": 21
  },
  {
   "metadata": {
    "ExecuteTime": {
     "end_time": "2025-03-21T21:09:30.975850Z",
     "start_time": "2025-03-21T21:09:30.725051Z"
    }
   },
   "cell_type": "code",
   "source": [
    "x_valid = x_test[len(x_test)//2:]\n",
    "y_valid = y_test[len(y_test)//2:]\n",
    "valid_accuracy = model.test(x_valid, y_valid)\n",
    "print(f'Validation accuracy: {valid_accuracy:.2f}%')"
   ],
   "id": "2d970cd7279a54c6",
   "outputs": [
    {
     "name": "stdout",
     "output_type": "stream",
     "text": [
      "Validation accuracy: 89.21%\n"
     ]
    }
   ],
   "execution_count": 37
  },
  {
   "metadata": {},
   "cell_type": "code",
   "outputs": [
    {
     "name": "stdout",
     "output_type": "stream",
     "text": [
      "Среднее время выполнения одной итерации: 86.88\n"
     ]
    },
    {
     "data": {
      "text/plain": [
       "<Figure size 640x480 with 1 Axes>"
      ],
      "image/png": "[encoded data removed]"
     },
     "metadata": {},
     "output_type": "display_data"
    }
   ],
   "execution_count": 65,
   "source": [
    "# print(f'Среднее время выполнения одной итерации: {np.mean(time_data):.2f}')\n",
    "# x_i = [i for i in range(20)]\n",
    "# plt.plot(x_i, loss_data, label='loss')\n",
    "# plt.plot(x_i, acc_data / 100, label='accuracy')\n",
    "# plt.legend()\n",
    "# plt.show()"
   ],
   "id": "7c0bccd14bff1da9"
  },
  {
   "metadata": {
    "ExecuteTime": {
     "end_time": "2025-03-21T01:39:31.149284Z",
     "start_time": "2025-03-21T01:39:31.145740Z"
    }
   },
   "cell_type": "code",
   "source": [
    "def visualize(images, predictions, real, num_images=5):\n",
    "    fig, axes = plt.subplots(1, num_images, figsize=(10, 2))\n",
    "    for i in range(num_images):\n",
    "        axes[i].imshow(images[i].reshape(28, 28), cmap='gray')\n",
    "        axes[i].set_title(f'Prediction: {chr(idx[str(predictions[i])])}\\nActual: {chr(idx[str(real[i])])}')\n",
    "        axes[i].axis('off')\n",
    "    plt.show()"
   ],
   "id": "daf41c7070e57a5a",
   "outputs": [],
   "execution_count": 67
  },
  {
   "metadata": {
    "ExecuteTime": {
     "end_time": "2025-03-21T16:51:32.370728Z",
     "start_time": "2025-03-21T16:51:32.086258Z"
    }
   },
   "cell_type": "code",
   "source": [
    "with open('data/emnist/emnist-letters-mapping.txt', 'r') as mapping_file:\n",
    "    idx = {}\n",
    "    for line in mapping_file.readlines():\n",
    "        items = line.split()\n",
    "        idx[str(int(items[0])-1)] = int(items[1])\n",
    "\n",
    "predictions = []\n",
    "count = 5\n",
    "x = []\n",
    "y = []\n",
    "for i in range(count):\n",
    "    i_x = np.random.randint(0, x_valid.shape[0])\n",
    "    x.append(x_valid[i_x])\n",
    "    y.append(y_valid[i_x])\n",
    "    predictions.append(model.predict(x_valid[i_x]))\n",
    "visualize(x, predictions, y, count)"
   ],
   "id": "bdc24285a6d81de7",
   "outputs": [
    {
     "ename": "NameError",
     "evalue": "name 'np' is not defined",
     "output_type": "error",
     "traceback": [
      "\u001B[1;31m---------------------------------------------------------------------------\u001B[0m",
      "\u001B[1;31mNameError\u001B[0m                                 Traceback (most recent call last)",
      "Cell \u001B[1;32mIn[1], line 6\u001B[0m\n\u001B[0;32m      4\u001B[0m y \u001B[38;5;241m=\u001B[39m []\n\u001B[0;32m      5\u001B[0m \u001B[38;5;28;01mfor\u001B[39;00m i \u001B[38;5;129;01min\u001B[39;00m \u001B[38;5;28mrange\u001B[39m(count):\n\u001B[1;32m----> 6\u001B[0m     i_x \u001B[38;5;241m=\u001B[39m np\u001B[38;5;241m.\u001B[39mrandom\u001B[38;5;241m.\u001B[39mrandint(\u001B[38;5;241m0\u001B[39m, x_valid\u001B[38;5;241m.\u001B[39mshape[\u001B[38;5;241m0\u001B[39m])\n\u001B[0;32m      7\u001B[0m     x\u001B[38;5;241m.\u001B[39mappend(x_valid[i_x])\n\u001B[0;32m      8\u001B[0m     y\u001B[38;5;241m.\u001B[39mappend(y_valid[i_x])\n",
      "\u001B[1;31mNameError\u001B[0m: name 'np' is not defined"
     ]
    }
   ],
   "execution_count": 1
  },
  {
   "metadata": {},
   "cell_type": "code",
   "outputs": [],
   "execution_count": null,
   "source": "",
   "id": "2184ddbe63d6367a"
  }
 ],
 "metadata": {
  "kernelspec": {
   "display_name": "Python 3",
   "language": "python",
   "name": "python3"
  },
  "language_info": {
   "codemirror_mode": {
    "name": "ipython",
    "version": 2
   },
   "file_extension": ".py",
   "mimetype": "text/x-python",
   "name": "python",
   "nbconvert_exporter": "python",
   "pygments_lexer": "ipython2",
   "version": "2.7.6"
  }
 },
 "nbformat": 4,
 "nbformat_minor": 5
}
