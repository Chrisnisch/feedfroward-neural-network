{
 "cells": [
  {
   "cell_type": "code",
   "id": "initial_id",
   "metadata": {
    "collapsed": true,
    "ExecuteTime": {
     "end_time": "2025-03-21T00:32:50.633697Z",
     "start_time": "2025-03-21T00:32:50.420321Z"
    }
   },
   "source": [
    "import idx2numpy\n",
    "import numpy as np\n",
    "\n",
    "x_train = np.array(idx2numpy.convert_from_file('./data/emnist/emnist-letters-train-images-idx3-ubyte')).astype('float32')\n",
    "y_train = np.array(idx2numpy.convert_from_file('./data/emnist/emnist-letters-train-labels-idx1-ubyte'))\n",
    "\n",
    "x_test = np.array(idx2numpy.convert_from_file('./data/emnist/emnist-letters-test-images-idx3-ubyte')).astype('float32')\n",
    "y_test = np.array(idx2numpy.convert_from_file('./data/emnist/emnist-letters-test-labels-idx1-ubyte'))"
   ],
   "outputs": [],
   "execution_count": 1
  },
  {
   "metadata": {
    "ExecuteTime": {
     "end_time": "2025-03-21T00:32:52.996537Z",
     "start_time": "2025-03-21T00:32:52.979359Z"
    }
   },
   "cell_type": "code",
   "source": [
    "x_train /= 255\n",
    "x_test /= 255"
   ],
   "id": "c6755b715b7ac635",
   "outputs": [],
   "execution_count": 2
  },
  {
   "metadata": {
    "ExecuteTime": {
     "end_time": "2025-03-21T00:32:53.426733Z",
     "start_time": "2025-03-21T00:32:53.424319Z"
    }
   },
   "cell_type": "code",
   "source": [
    "x_train = np.fliplr(x_train)\n",
    "x_test = np.fliplr(x_test)"
   ],
   "id": "b7cd1a8ef0e4de47",
   "outputs": [],
   "execution_count": 3
  },
  {
   "metadata": {
    "ExecuteTime": {
     "end_time": "2025-03-21T00:32:53.816063Z",
     "start_time": "2025-03-21T00:32:53.813508Z"
    }
   },
   "cell_type": "code",
   "source": [
    "x_train = np.rot90(x_train, k=3, axes=(1, 2))\n",
    "x_test = np.rot90(x_test, k=3, axes=(1, 2))"
   ],
   "id": "2aeb53e7f4287dd0",
   "outputs": [],
   "execution_count": 4
  },
  {
   "metadata": {
    "ExecuteTime": {
     "end_time": "2025-03-21T00:32:54.126329Z",
     "start_time": "2025-03-21T00:32:54.011115Z"
    }
   },
   "cell_type": "code",
   "source": [
    "x_train = x_train.reshape(x_train.shape[0], 784)\n",
    "x_test = x_test.reshape(x_test.shape[0], 784)"
   ],
   "id": "e341d7376c8e3ece",
   "outputs": [],
   "execution_count": 5
  },
  {
   "metadata": {
    "ExecuteTime": {
     "end_time": "2025-03-21T00:32:54.363647Z",
     "start_time": "2025-03-21T00:32:54.360647Z"
    }
   },
   "cell_type": "code",
   "source": [
    "y_train -= 1\n",
    "y_test -= 1"
   ],
   "id": "56dadcfe3ca5de1a",
   "outputs": [],
   "execution_count": 6
  },
  {
   "metadata": {
    "ExecuteTime": {
     "end_time": "2025-03-21T01:05:24.354776Z",
     "start_time": "2025-03-21T01:05:24.350002Z"
    }
   },
   "cell_type": "code",
   "source": [
    "with open('data/emnist/emnist-letters-mapping.txt', 'r') as mapping_file:\n",
    "    idx = {}\n",
    "    for line in mapping_file.readlines():\n",
    "        items = line.split()\n",
    "        idx[str(int(items[0])-1)] = int(items[1])"
   ],
   "id": "59ab917824539947",
   "outputs": [
    {
     "name": "stdout",
     "output_type": "stream",
     "text": [
      "{'0': 65, '1': 66, '2': 67, '3': 68, '4': 69, '5': 70, '6': 71, '7': 72, '8': 73, '9': 74, '10': 75, '11': 76, '12': 77, '13': 78, '14': 79, '15': 80, '16': 81, '17': 82, '18': 83, '19': 84, '20': 85, '21': 86, '22': 87, '23': 88, '24': 89, '25': 90}\n"
     ]
    }
   ],
   "execution_count": 41
  },
  {
   "metadata": {
    "ExecuteTime": {
     "end_time": "2025-03-21T00:32:56.517224Z",
     "start_time": "2025-03-21T00:32:56.092154Z"
    }
   },
   "cell_type": "code",
   "source": [
    "import matplotlib.pyplot as plt\n",
    "\n",
    "plt.figure()\n",
    "plt.imshow(x_train[100].reshape(28, 28), cmap='gray')\n",
    "plt.colorbar()\n",
    "plt.grid(False)"
   ],
   "id": "ace328e50bdceaf4",
   "outputs": [
    {
     "data": {
      "text/plain": [
       "<Figure size 640x480 with 2 Axes>"
      ],
      "image/png": "[encoded data removed]"
     },
     "metadata": {},
     "output_type": "display_data"
    }
   ],
   "execution_count": 8
  },
  {
   "metadata": {
    "ExecuteTime": {
     "end_time": "2025-03-21T00:50:35.438346Z",
     "start_time": "2025-03-21T00:50:35.425109Z"
    }
   },
   "cell_type": "code",
   "source": [
    "import numpy as np\n",
    "import time\n",
    "\n",
    "def ReLU(x, derivative=False):\n",
    "    return x * (x > 0) if not derivative else x > 0\n",
    "\n",
    "\n",
    "def softmax(x):\n",
    "    exp_x = np.exp(x - np.max(x))\n",
    "    return exp_x / exp_x.sum(axis=1, keepdims=True)\n",
    "\n",
    "class Network:\n",
    "\n",
    "    def __init__(self, sizes, activation_func=ReLU, output_func=softmax):\n",
    "        self.sizes = sizes\n",
    "        self.activation_func = activation_func\n",
    "        self.output_func = output_func\n",
    "        # self._norm_init()\n",
    "        # self._xavier_init()\n",
    "        self._he_init()\n",
    "\n",
    "    def _norm_init(self):\n",
    "        \n",
    "        self.weights = []\n",
    "        self.biases = []\n",
    "        self.activations = []\n",
    "        self.deltaW = []\n",
    "        self.deltaB = []\n",
    "        \n",
    "        for i in range(1, len(self.sizes)):\n",
    "            self.weights.append(0 + 0.5 * np.random.randn(self.sizes[i-1], self.sizes[i]))\n",
    "            self.biases.append(np.zeros((1, self.sizes[i])))\n",
    "\n",
    "    def _xavier_init(self):\n",
    "        \n",
    "        self.weights = []\n",
    "        self.biases = []\n",
    "        self.activations = []\n",
    "        self.deltaW = []\n",
    "        self.deltaB = []\n",
    "        \n",
    "        for i in range(1, len(self.sizes)):\n",
    "            left, right = self.sizes[i-1], self.sizes[i]\n",
    "            limit = np.sqrt(6 / (left + right))\n",
    "            self.weights.append(np.random.uniform(-limit, limit, size=(left, right)))\n",
    "            self.biases.append(np.zeros((1, self.sizes[i])))\n",
    "            \n",
    "    def _he_init(self):\n",
    "        self.weights = []\n",
    "        self.biases = []\n",
    "        self.activations = []\n",
    "        self.deltaW = []\n",
    "        self.deltaB = []\n",
    "        \n",
    "        for i in range(1, len(self.sizes)):\n",
    "            left, right = self.sizes[i-1], self.sizes[i]\n",
    "            limit = np.sqrt(2 / left)\n",
    "            self.weights.append(np.random.uniform(-limit, limit, size=(left, right)))\n",
    "            self.biases.append(np.zeros((1, self.sizes[i])))\n",
    "       \n",
    "    def _forward(self, x):\n",
    "        self.activations = [np.array(x).reshape(1, len(x))]\n",
    "        \n",
    "        for i in range(len(self.sizes)-2):\n",
    "            self.activations.append(self.activation_func(np.dot(self.activations[-1], self.weights[i]) + self.biases[i]))\n",
    "\n",
    "        self.activations.append(self.output_func(np.dot(self.activations[-1], self.weights[-1]) + self.biases[-1]))\n",
    "        \n",
    "        return self.activations[-1]\n",
    "\n",
    "    def _backprop(self, y_valid):\n",
    "        self.deltaW = []\n",
    "        self.deltaB = []\n",
    "        error = self.activations[len(self.sizes)-1] - y_valid\n",
    "        \n",
    "        for i in range(len(self.sizes)-2, -1, -1):\n",
    "            self.deltaW.insert(0, np.dot(self.activations[i].T, error))\n",
    "            self.deltaB.insert(0, np.sum(error, axis=0, keepdims=True))\n",
    "            error = np.dot(error, self.weights[i].T) * ReLU(self.activations[i], derivative=True)\n",
    "\n",
    "    def _update_params(self, learning_rate):\n",
    "        \n",
    "        for i in range(len(self.weights)):\n",
    "            self.weights[i] -= learning_rate * self.deltaW[i]\n",
    "            self.biases[i] -= learning_rate * self.deltaB[i]\n",
    "        \n",
    "    def _onehot(self, y):\n",
    "        one_hot = np.zeros((1, self.sizes[-1]))\n",
    "        one_hot[0, y] = 1\n",
    "        return one_hot\n",
    "        \n",
    "    def fit(self, x_train, y_train, x_test, y_test, epochs, learning_rate):\n",
    "        time_data = []\n",
    "        loss_data = []\n",
    "        acc_data = []\n",
    "        start = time.time()\n",
    "        for epoch in range(epochs):\n",
    "            total_loss = 0\n",
    "            epoch_start = time.time()\n",
    "            for x, y in zip(x_train, y_train):\n",
    "                y_onehot = self._onehot(y)\n",
    "                self._forward(x)\n",
    "                self._backprop(y_onehot)\n",
    "                self._update_params(learning_rate)\n",
    "                self._forward(x)\n",
    "                output = self.activations[-1]\n",
    "                loss = -np.sum(y_onehot * np.log(output + 1e-8))\n",
    "                total_loss += loss\n",
    "            avg_loss = total_loss / len(x_train)\n",
    "            loss_data.append(avg_loss)\n",
    "            print(f\"====================================\\n\"\n",
    "                  f\"Epoch {epoch + 1}/{epochs}\\nLoss: {avg_loss:.4f}\")\n",
    "            accuracy = self.test(x_test, y_test)\n",
    "            acc_data.append(accuracy)\n",
    "            print(f'Accuracy: {accuracy:.2f}%')\n",
    "            time_data.append(time.time() - epoch_start)\n",
    "        print(f'====================================\\n'\n",
    "              f'Total time: {time.time() - start:.2f}')\n",
    "        \n",
    "        return time_data, loss_data, acc_data\n",
    "    \n",
    "    def test(self, x_test, y_test):\n",
    "        correct = 0\n",
    "        for x, y in zip(x_test, y_test):\n",
    "            prediction = self.predict(x)\n",
    "            if prediction == y:\n",
    "                correct += 1\n",
    "\n",
    "        return correct / len(y_test) * 100\n",
    "\n",
    "    def predict(self, x):\n",
    "        self._forward(x)\n",
    "        return np.argmax(self.activations[-1])"
   ],
   "id": "3c0511c7efc32d0f",
   "outputs": [],
   "execution_count": 21
  },
  {
   "metadata": {
    "ExecuteTime": {
     "end_time": "2025-03-21T01:10:32.584462Z",
     "start_time": "2025-03-21T01:10:32.577279Z"
    }
   },
   "cell_type": "code",
   "source": [
    "input_ = x_train.shape[1]  # размерность входных данных\n",
    "hidden1 = 256\n",
    "hidden2 = 128\n",
    "output = len(np.unique(y_train))  # количество классов\n",
    "model = Network([input_, hidden1, hidden2, output])"
   ],
   "id": "70f485f7c1a1c17f",
   "outputs": [],
   "execution_count": 61
  },
  {
   "metadata": {
    "ExecuteTime": {
     "end_time": "2025-03-21T01:25:24.300754Z",
     "start_time": "2025-03-21T01:10:33.114737Z"
    }
   },
   "cell_type": "code",
   "source": "time_data, loss_data, acc_data = model.fit(x_train, y_train, x_test[:len(x_test)//2], y_test[:len(y_test)//2], epochs=10, learning_rate=0.01)",
   "id": "2a13f1a3a4c3c19a",
   "outputs": [
    {
     "name": "stdout",
     "output_type": "stream",
     "text": [
      "====================================\n",
      "Epoch 1/10\n",
      "Loss: 0.1488\n",
      "Accuracy: 82.82%\n",
      "====================================\n",
      "Epoch 2/10\n",
      "Loss: 0.0681\n",
      "Accuracy: 84.87%\n",
      "====================================\n",
      "Epoch 3/10\n",
      "Loss: 0.0565\n",
      "Accuracy: 85.92%\n",
      "====================================\n",
      "Epoch 4/10\n",
      "Loss: 0.0502\n",
      "Accuracy: 85.21%\n",
      "====================================\n",
      "Epoch 5/10\n",
      "Loss: 0.0463\n",
      "Accuracy: 86.10%\n",
      "====================================\n",
      "Epoch 6/10\n",
      "Loss: 0.0435\n",
      "Accuracy: 85.14%\n",
      "====================================\n",
      "Epoch 7/10\n",
      "Loss: 0.0412\n",
      "Accuracy: 84.85%\n",
      "====================================\n",
      "Epoch 8/10\n",
      "Loss: 0.0400\n",
      "Accuracy: 86.06%\n",
      "====================================\n",
      "Epoch 9/10\n",
      "Loss: 0.0380\n",
      "Accuracy: 85.31%\n",
      "====================================\n",
      "Epoch 10/10\n",
      "Loss: 0.0382\n",
      "Accuracy: 86.50%\n",
      "Total time: 891.18\n"
     ]
    }
   ],
   "execution_count": 62
  },
  {
   "metadata": {
    "ExecuteTime": {
     "end_time": "2025-03-21T01:32:29.798633Z",
     "start_time": "2025-03-21T01:25:24.300754Z"
    }
   },
   "cell_type": "code",
   "source": "time_data2, loss_data2, acc_data2 = model.fit(x_train, y_train, x_test[:len(x_test)//2], y_test[:len(y_test)//2], epochs=5, learning_rate=0.02)",
   "id": "74e5363fa81d8089",
   "outputs": [
    {
     "name": "stdout",
     "output_type": "stream",
     "text": [
      "====================================\n",
      "Epoch 1/5\n",
      "Loss: 0.1162\n",
      "Accuracy: 77.47%\n",
      "====================================\n",
      "Epoch 2/5\n",
      "Loss: 0.1370\n",
      "Accuracy: 77.63%\n",
      "====================================\n",
      "Epoch 3/5\n",
      "Loss: 0.1553\n",
      "Accuracy: 80.12%\n",
      "====================================\n",
      "Epoch 4/5\n",
      "Loss: 0.1718\n",
      "Accuracy: 80.38%\n",
      "====================================\n",
      "Epoch 5/5\n",
      "Loss: 0.1831\n",
      "Accuracy: 80.28%\n",
      "Total time: 425.49\n"
     ]
    }
   ],
   "execution_count": 63
  },
  {
   "metadata": {
    "ExecuteTime": {
     "end_time": "2025-03-21T01:39:30.710628Z",
     "start_time": "2025-03-21T01:32:29.798633Z"
    }
   },
   "cell_type": "code",
   "source": "time_data3, loss_data3, acc_data3 = model.fit(x_train, y_train, x_test[:len(x_test)//2], y_test[:len(y_test)//2], epochs=5, learning_rate=0.01)",
   "id": "ccf46e97d76708a5",
   "outputs": [
    {
     "name": "stdout",
     "output_type": "stream",
     "text": [
      "====================================\n",
      "Epoch 1/5\n",
      "Loss: 0.1360\n",
      "Accuracy: 85.63%\n",
      "====================================\n",
      "Epoch 2/5\n",
      "Loss: 0.1082\n",
      "Accuracy: 87.26%\n",
      "====================================\n",
      "Epoch 3/5\n",
      "Loss: 0.0949\n",
      "Accuracy: 87.74%\n",
      "====================================\n",
      "Epoch 4/5\n",
      "Loss: 0.0879\n",
      "Accuracy: 87.69%\n",
      "====================================\n",
      "Epoch 5/5\n",
      "Loss: 0.0819\n",
      "Accuracy: 87.69%\n",
      "Total time: 420.91\n"
     ]
    }
   ],
   "execution_count": 64
  },
  {
   "metadata": {
    "ExecuteTime": {
     "end_time": "2025-03-21T01:39:30.763714Z",
     "start_time": "2025-03-21T01:39:30.711632Z"
    }
   },
   "cell_type": "code",
   "source": [
    "print(f'Среднее время выполнения одной итерации: {np.mean(np.concatenate((time_data, time_data2, time_data3), axis=None)):.2f}')\n",
    "x_i = [i for i in range(20)]\n",
    "plt.plot(x_i, np.concatenate((loss_data, loss_data2, loss_data3), axis=None), label='loss')\n",
    "plt.plot(x_i, np.concatenate((acc_data, acc_data2, acc_data3), axis=None), label='accuracy')\n",
    "plt.legend()\n",
    "plt.show()"
   ],
   "id": "7c0bccd14bff1da9",
   "outputs": [
    {
     "name": "stdout",
     "output_type": "stream",
     "text": [
      "Среднее время выполнения одной итерации: 86.88\n"
     ]
    },
    {
     "data": {
      "text/plain": [
       "<Figure size 640x480 with 1 Axes>"
      ],
      "image/png": "[encoded data removed]"
     },
     "metadata": {},
     "output_type": "display_data"
    }
   ],
   "execution_count": 65
  },
  {
   "metadata": {
    "ExecuteTime": {
     "end_time": "2025-03-21T01:39:31.145740Z",
     "start_time": "2025-03-21T01:39:30.763714Z"
    }
   },
   "cell_type": "code",
   "source": [
    "print(f'Validation...')\n",
    "x_valid = x_test[len(x_test)//2:]\n",
    "y_valid = y_test[len(y_test)//2:]\n",
    "valid_accuracy = model.test(x_test[len(x_test)//2:], y_test[len(y_test)//2:])\n",
    "print(f'Accuracy: {valid_accuracy:.2f}%')"
   ],
   "id": "f88c70cab62e4620",
   "outputs": [
    {
     "name": "stdout",
     "output_type": "stream",
     "text": [
      "Validation...\n",
      "Accuracy: 90.38%\n"
     ]
    }
   ],
   "execution_count": 66
  },
  {
   "metadata": {
    "ExecuteTime": {
     "end_time": "2025-03-21T01:39:31.149284Z",
     "start_time": "2025-03-21T01:39:31.145740Z"
    }
   },
   "cell_type": "code",
   "source": [
    "def visualize(images, predictions, real, num_images=5):\n",
    "    fig, axes = plt.subplots(1, num_images, figsize=(10, 2))\n",
    "    for i in range(num_images):\n",
    "        axes[i].imshow(images[i].reshape(28, 28), cmap='gray')\n",
    "        axes[i].set_title(f'Prediction: {chr(idx[str(predictions[i])])}\\nActual: {chr(idx[str(real[i])])}')\n",
    "        axes[i].axis('off')\n",
    "    plt.show()"
   ],
   "id": "daf41c7070e57a5a",
   "outputs": [],
   "execution_count": 67
  },
  {
   "metadata": {
    "ExecuteTime": {
     "end_time": "2025-03-21T01:42:33.054826Z",
     "start_time": "2025-03-21T01:42:32.974826Z"
    }
   },
   "cell_type": "code",
   "source": [
    "predictions = []\n",
    "count = 5\n",
    "x = []\n",
    "y = []\n",
    "for i in range(count):\n",
    "    i_x = np.random.randint(0, x_valid.shape[0])\n",
    "    x.append(x_valid[i_x])\n",
    "    y.append(y_valid[i_x])\n",
    "    predictions.append(model.predict(x_valid[i_x]))\n",
    "visualize(x, predictions, y, count)"
   ],
   "id": "bdc24285a6d81de7",
   "outputs": [
    {
     "data": {
      "text/plain": [
       "<Figure size 1000x200 with 5 Axes>"
      ],
      "image/png": "[encoded data removed]"
     },
     "metadata": {},
     "output_type": "display_data"
    }
   ],
   "execution_count": 69
  },
  {
   "metadata": {},
   "cell_type": "code",
   "outputs": [],
   "execution_count": null,
   "source": "",
   "id": "2184ddbe63d6367a"
  }
 ],
 "metadata": {
  "kernelspec": {
   "display_name": "Python 3",
   "language": "python",
   "name": "python3"
  },
  "language_info": {
   "codemirror_mode": {
    "name": "ipython",
    "version": 2
   },
   "file_extension": ".py",
   "mimetype": "text/x-python",
   "name": "python",
   "nbconvert_exporter": "python",
   "pygments_lexer": "ipython2",
   "version": "2.7.6"
  }
 },
 "nbformat": 4,
 "nbformat_minor": 5
}
