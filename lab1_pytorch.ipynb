{
 "cells": [
  {
   "metadata": {},
   "cell_type": "markdown",
   "source": "### Подготовка данных",
   "id": "eebbf5ccb22584d9"
  },
  {
   "metadata": {},
   "cell_type": "markdown",
   "source": "Загрузим тот же датасет и подгоним под формат удобный для pytorch",
   "id": "c930699a122110fd"
  },
  {
   "metadata": {
    "ExecuteTime": {
     "end_time": "2025-03-28T22:43:16.975072Z",
     "start_time": "2025-03-28T22:42:57.874384Z"
    }
   },
   "cell_type": "code",
   "source": [
    "import idx2numpy\n",
    "import numpy as np\n",
    "\n",
    "import torch\n",
    "import torch.nn as nn\n",
    "\n",
    "import matplotlib.pyplot as plt\n",
    "import seaborn as sns"
   ],
   "id": "46fdb6aef280d5b0",
   "outputs": [],
   "execution_count": 1
  },
  {
   "metadata": {
    "ExecuteTime": {
     "end_time": "2025-03-28T23:36:10.837957Z",
     "start_time": "2025-03-28T23:36:10.691588Z"
    }
   },
   "cell_type": "code",
   "source": [
    "x_train = np.array(idx2numpy.convert_from_file('./data/emnist/emnist-letters-train-images-idx3-ubyte')).astype('float32')\n",
    "y_train = np.array(idx2numpy.convert_from_file('./data/emnist/emnist-letters-train-labels-idx1-ubyte'))\n",
    "\n",
    "x_test = np.array(idx2numpy.convert_from_file('./data/emnist/emnist-letters-test-images-idx3-ubyte')).astype('float32')\n",
    "y_test = np.array(idx2numpy.convert_from_file('./data/emnist/emnist-letters-test-labels-idx1-ubyte'))\n",
    "\n",
    "x_train /= 255\n",
    "x_test /= 255\n",
    "\n",
    "x_train = np.fliplr(x_train)\n",
    "x_test = np.fliplr(x_test)\n",
    "\n",
    "x_train = np.rot90(x_train, k=3, axes=(1, 2))\n",
    "x_test = np.rot90(x_test, k=3, axes=(1, 2))\n",
    "\n",
    "# x_train = x_train.reshape(x_train.shape[0], 784)\n",
    "# x_test = x_test.reshape(x_test.shape[0], 784)\n",
    "\n",
    "y_train -= 1\n",
    "y_test -= 1\n",
    "\n",
    "with open('data/emnist/emnist-letters-mapping.txt', 'r') as mapping_file:\n",
    "    idx = {}\n",
    "    for line in mapping_file.readlines():\n",
    "        items = line.split()\n",
    "        idx[int(items[0])-1] = chr(int(items[1]))"
   ],
   "id": "85cb48c0215f8c93",
   "outputs": [],
   "execution_count": 42
  },
  {
   "metadata": {
    "ExecuteTime": {
     "end_time": "2025-03-28T23:36:11.311611Z",
     "start_time": "2025-03-28T23:36:11.282954Z"
    }
   },
   "cell_type": "code",
   "source": [
    "train_images = torch.tensor(x_train, dtype=torch.float32)\n",
    "train_labels = torch.tensor(y_train, dtype=torch.float32)\n",
    "test_images = torch.tensor(x_test, dtype=torch.float32)\n",
    "test_labels = torch.tensor(y_test, dtype=torch.float32)"
   ],
   "id": "5f01e9f0206f623",
   "outputs": [],
   "execution_count": 43
  },
  {
   "metadata": {
    "ExecuteTime": {
     "end_time": "2025-03-28T23:36:11.693724Z",
     "start_time": "2025-03-28T23:36:11.658871Z"
    }
   },
   "cell_type": "code",
   "source": [
    "from torch.utils.data import Dataset, DataLoader\n",
    "\n",
    "class EMNISTDataset(Dataset):\n",
    "    def __init__(self, images, labels):\n",
    "        self.images = images.unsqueeze(1)\n",
    "        self.labels = labels\n",
    "\n",
    "    def __len__(self):\n",
    "        return len(self.labels)\n",
    "\n",
    "    def __getitem__(self, idx):\n",
    "        return self.images[idx], self.labels[idx]\n",
    "    \n",
    "train_dataset = EMNISTDataset(train_images, train_labels)\n",
    "test_dataset = EMNISTDataset(test_images, test_labels)\n",
    "\n",
    "train_loader = DataLoader(train_dataset, batch_size=64, shuffle=True)\n",
    "test_loader = DataLoader(test_dataset, batch_size=64, shuffle=False)"
   ],
   "id": "c7de8243df72c8a4",
   "outputs": [],
   "execution_count": 44
  },
  {
   "metadata": {
    "ExecuteTime": {
     "end_time": "2025-03-28T23:36:13.003577Z",
     "start_time": "2025-03-28T23:36:12.944452Z"
    }
   },
   "cell_type": "code",
   "source": [
    "# Display image and label.\n",
    "train_features, train_labels = next(iter(train_loader))\n",
    "print(f\"Feature batch shape: {train_features.size()}\")\n",
    "print(f\"Labels batch shape: {train_labels.size()}\")\n",
    "img = train_features[0].squeeze()\n",
    "label = train_labels[0]\n",
    "print(f\"Label: {label}\")\n",
    "sns.set_style(style='dark')\n",
    "plt.imshow(img, cmap=\"gray\")\n",
    "plt.show()"
   ],
   "id": "aff59c880e317e52",
   "outputs": [
    {
     "name": "stdout",
     "output_type": "stream",
     "text": [
      "Feature batch shape: torch.Size([64, 1, 28, 28])\n",
      "Labels batch shape: torch.Size([64])\n",
      "Label: 21.0\n"
     ]
    },
    {
     "data": {
      "text/plain": [
       "<Figure size 640x480 with 1 Axes>"
      ],
      "image/png": "[encoded data removed]"
     },
     "metadata": {},
     "output_type": "display_data"
    }
   ],
   "execution_count": 45
  },
  {
   "metadata": {},
   "cell_type": "markdown",
   "source": "Вычисления попробуем производить на видеокарте",
   "id": "42cbcaa7cca8a507"
  },
  {
   "metadata": {
    "ExecuteTime": {
     "end_time": "2025-03-28T23:36:15.103835Z",
     "start_time": "2025-03-28T23:36:15.100451Z"
    }
   },
   "cell_type": "code",
   "source": [
    "device = torch.accelerator.current_accelerator().type if torch.accelerator.is_available() else \"cpu\"\n",
    "print(f\"Using {device} device\")"
   ],
   "id": "21c3d6a999a60099",
   "outputs": [
    {
     "name": "stdout",
     "output_type": "stream",
     "text": [
      "Using cuda device\n"
     ]
    }
   ],
   "execution_count": 46
  },
  {
   "metadata": {
    "ExecuteTime": {
     "end_time": "2025-03-28T23:36:15.308856Z",
     "start_time": "2025-03-28T23:36:15.304488Z"
    }
   },
   "cell_type": "code",
   "source": [
    "class SimpleNN(nn.Module):\n",
    "    def __init__(self, input_size, hidden_units, num_classes):\n",
    "        super(SimpleNN, self).__init__()\n",
    "        self.flatten = nn.Flatten()\n",
    "        self.fc1 = nn.Linear(input_size, hidden_units)\n",
    "        self.relu = nn.ReLU()\n",
    "        self.fc2 = nn.Linear(hidden_units, num_classes)\n",
    "        self.softmax = nn.Softmax(dim=1)\n",
    "\n",
    "    def forward(self, x):\n",
    "        x = self.flatten(x)\n",
    "        x = self.fc1(x)\n",
    "        x = self.relu(x)\n",
    "        x = self.fc2(x)\n",
    "        x = self.softmax(x)\n",
    "        return x"
   ],
   "id": "9d661010a995e3ab",
   "outputs": [],
   "execution_count": 47
  },
  {
   "metadata": {
    "ExecuteTime": {
     "end_time": "2025-03-28T23:40:49.989916Z",
     "start_time": "2025-03-28T23:40:49.986647Z"
    }
   },
   "cell_type": "code",
   "source": [
    "input_size = train_images.shape[1] * train_images.shape[2]\n",
    "hidden_units = 64\n",
    "num_classes = 26\n",
    "epochs = 10"
   ],
   "id": "5d848ec59ef2f0a",
   "outputs": [],
   "execution_count": 67
  },
  {
   "metadata": {
    "ExecuteTime": {
     "end_time": "2025-03-28T23:40:50.308177Z",
     "start_time": "2025-03-28T23:40:50.305174Z"
    }
   },
   "cell_type": "code",
   "source": "model = SimpleNN(input_size, hidden_units, num_classes)",
   "id": "6c58e42041e9cdf6",
   "outputs": [],
   "execution_count": 68
  },
  {
   "metadata": {
    "ExecuteTime": {
     "end_time": "2025-03-28T23:40:50.521293Z",
     "start_time": "2025-03-28T23:40:50.518077Z"
    }
   },
   "cell_type": "code",
   "source": [
    "criterion = nn.CrossEntropyLoss()\n",
    "optimizer = torch.optim.Adam(model.parameters(), lr=0.001)"
   ],
   "id": "67571ffab24173c",
   "outputs": [],
   "execution_count": 69
  },
  {
   "metadata": {
    "ExecuteTime": {
     "end_time": "2025-03-28T23:41:08.195440Z",
     "start_time": "2025-03-28T23:40:50.730060Z"
    }
   },
   "cell_type": "code",
   "source": [
    "for epoch in range(epochs):\n",
    "    running_loss = 0.0\n",
    "    for images, labels in train_loader:\n",
    "        images = images.view(-1, 28*28)\n",
    "        \n",
    "        optimizer.zero_grad()\n",
    "        outputs = model(images)\n",
    "        loss = criterion(outputs, labels.long())\n",
    "        loss.backward()\n",
    "        optimizer.step()\n",
    "        \n",
    "        running_loss += loss.item()\n",
    "    print(f'Epoch [{epoch+1}/{epochs}], Loss: {running_loss/len(train_loader):.4f}')"
   ],
   "id": "13c628306cc0432f",
   "outputs": [
    {
     "name": "stdout",
     "output_type": "stream",
     "text": [
      "Epoch [1/10], Loss: 2.7830\n",
      "Epoch [2/10], Loss: 2.6733\n",
      "Epoch [3/10], Loss: 2.6381\n",
      "Epoch [4/10], Loss: 2.6175\n",
      "Epoch [5/10], Loss: 2.6034\n",
      "Epoch [6/10], Loss: 2.5885\n",
      "Epoch [7/10], Loss: 2.5656\n",
      "Epoch [8/10], Loss: 2.5569\n",
      "Epoch [9/10], Loss: 2.5392\n",
      "Epoch [10/10], Loss: 2.5046\n"
     ]
    }
   ],
   "execution_count": 70
  },
  {
   "metadata": {
    "ExecuteTime": {
     "end_time": "2025-03-28T23:41:14.448173Z",
     "start_time": "2025-03-28T23:41:14.305351Z"
    }
   },
   "cell_type": "code",
   "source": [
    "correct = 0\n",
    "total = 0\n",
    "with torch.no_grad():\n",
    "    for images, labels in test_loader:\n",
    "        images = images.view(-1, 28*28)\n",
    "        outputs = model(images)\n",
    "        _, predicted = torch.max(outputs, 1)\n",
    "        total += labels.size(0)\n",
    "        correct += (predicted == labels).sum().item()\n",
    "\n",
    "accuracy = 100 * correct / total\n",
    "print(f'Accuracy on test set: {accuracy:.2f}%')"
   ],
   "id": "36c38028c377bf43",
   "outputs": [
    {
     "name": "stdout",
     "output_type": "stream",
     "text": [
      "Accuracy on test set: 82.39%\n"
     ]
    }
   ],
   "execution_count": 71
  },
  {
   "metadata": {},
   "cell_type": "code",
   "outputs": [],
   "execution_count": null,
   "source": "",
   "id": "5c716760ecb00727"
  }
 ],
 "metadata": {
  "kernelspec": {
   "display_name": "Python 3",
   "language": "python",
   "name": "python3"
  },
  "language_info": {
   "codemirror_mode": {
    "name": "ipython",
    "version": 2
   },
   "file_extension": ".py",
   "mimetype": "text/x-python",
   "name": "python",
   "nbconvert_exporter": "python",
   "pygments_lexer": "ipython2",
   "version": "2.7.6"
  }
 },
 "nbformat": 4,
 "nbformat_minor": 5
}
