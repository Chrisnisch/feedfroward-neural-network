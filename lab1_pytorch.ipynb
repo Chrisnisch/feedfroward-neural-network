{
 "cells": [
  {
   "metadata": {},
   "cell_type": "markdown",
   "source": "### Подготовка данных",
   "id": "eebbf5ccb22584d9"
  },
  {
   "metadata": {},
   "cell_type": "markdown",
   "source": "Загрузим тот же датасет и подгоним под формат удобный для pytorch",
   "id": "c930699a122110fd"
  },
  {
   "metadata": {
    "ExecuteTime": {
     "end_time": "2025-04-01T20:41:44.229736Z",
     "start_time": "2025-04-01T20:41:41.092189Z"
    }
   },
   "cell_type": "code",
   "source": [
    "import idx2numpy\n",
    "import numpy as np\n",
    "\n",
    "import torch\n",
    "import torch.nn as nn\n",
    "\n",
    "import matplotlib.pyplot as plt\n",
    "import seaborn as sns"
   ],
   "id": "46fdb6aef280d5b0",
   "outputs": [],
   "execution_count": 1
  },
  {
   "metadata": {
    "ExecuteTime": {
     "end_time": "2025-04-01T20:41:44.412303Z",
     "start_time": "2025-04-01T20:41:44.229736Z"
    }
   },
   "cell_type": "code",
   "source": [
    "x_train = np.array(idx2numpy.convert_from_file('./data/emnist/emnist-letters-train-images-idx3-ubyte')).astype('float32')\n",
    "y_train = np.array(idx2numpy.convert_from_file('./data/emnist/emnist-letters-train-labels-idx1-ubyte'))\n",
    "\n",
    "x_test = np.array(idx2numpy.convert_from_file('./data/emnist/emnist-letters-test-images-idx3-ubyte')).astype('float32')\n",
    "y_test = np.array(idx2numpy.convert_from_file('./data/emnist/emnist-letters-test-labels-idx1-ubyte'))\n",
    "\n",
    "x_train /= 255\n",
    "x_test /= 255\n",
    "\n",
    "x_train = np.fliplr(x_train)\n",
    "x_test = np.fliplr(x_test)\n",
    "\n",
    "x_train = np.rot90(x_train, k=3, axes=(1, 2))\n",
    "x_test = np.rot90(x_test, k=3, axes=(1, 2))\n",
    "\n",
    "# x_train = x_train.reshape(x_train.shape[0], 784)\n",
    "# x_test = x_test.reshape(x_test.shape[0], 784)\n",
    "\n",
    "y_train -= 1\n",
    "y_test -= 1\n",
    "\n",
    "with open('data/emnist/emnist-letters-mapping.txt', 'r') as mapping_file:\n",
    "    idx = {}\n",
    "    for line in mapping_file.readlines():\n",
    "        items = line.split()\n",
    "        idx[int(items[0])-1] = chr(int(items[1]))"
   ],
   "id": "85cb48c0215f8c93",
   "outputs": [],
   "execution_count": 2
  },
  {
   "metadata": {
    "ExecuteTime": {
     "end_time": "2025-04-01T20:41:44.452179Z",
     "start_time": "2025-04-01T20:41:44.412303Z"
    }
   },
   "cell_type": "code",
   "source": [
    "train_images = torch.tensor(x_train, dtype=torch.float32)\n",
    "train_labels = torch.tensor(y_train, dtype=torch.float32)\n",
    "test_images = torch.tensor(x_test, dtype=torch.float32)\n",
    "test_labels = torch.tensor(y_test, dtype=torch.float32)"
   ],
   "id": "5f01e9f0206f623",
   "outputs": [],
   "execution_count": 3
  },
  {
   "metadata": {
    "ExecuteTime": {
     "end_time": "2025-04-01T20:41:44.466066Z",
     "start_time": "2025-04-01T20:41:44.453184Z"
    }
   },
   "cell_type": "code",
   "source": [
    "from torch.utils.data import Dataset, DataLoader\n",
    "\n",
    "class EMNISTDataset(Dataset):\n",
    "    def __init__(self, images, labels):\n",
    "        self.images = images.unsqueeze(1)\n",
    "        self.labels = labels\n",
    "\n",
    "    def __len__(self):\n",
    "        return len(self.labels)\n",
    "\n",
    "    def __getitem__(self, idx):\n",
    "        return self.images[idx], self.labels[idx]\n",
    "    \n",
    "train_dataset = EMNISTDataset(train_images, train_labels)\n",
    "test_dataset = EMNISTDataset(test_images, test_labels)\n",
    "\n",
    "train_loader = DataLoader(train_dataset, batch_size=64, shuffle=True)\n",
    "test_loader = DataLoader(test_dataset, batch_size=64, shuffle=False)"
   ],
   "id": "c7de8243df72c8a4",
   "outputs": [],
   "execution_count": 4
  },
  {
   "metadata": {
    "ExecuteTime": {
     "end_time": "2025-04-01T20:41:44.722262Z",
     "start_time": "2025-04-01T20:41:44.466066Z"
    }
   },
   "cell_type": "code",
   "source": [
    "# Display image and label.\n",
    "train_features, train_labels = next(iter(train_loader))\n",
    "print(f\"Feature batch shape: {train_features.size()}\")\n",
    "print(f\"Labels batch shape: {train_labels.size()}\")\n",
    "img = train_features[0].squeeze()\n",
    "label = train_labels[0]\n",
    "print(f\"Label: {label}\")\n",
    "sns.set_style(style='dark')\n",
    "plt.imshow(img, cmap=\"gray\")\n",
    "plt.show()"
   ],
   "id": "aff59c880e317e52",
   "outputs": [
    {
     "name": "stdout",
     "output_type": "stream",
     "text": [
      "Feature batch shape: torch.Size([64, 1, 28, 28])\n",
      "Labels batch shape: torch.Size([64])\n",
      "Label: 0.0\n"
     ]
    },
    {
     "data": {
      "text/plain": [
       "<Figure size 640x480 with 1 Axes>"
      ],
      "image/png": "[encoded data removed]"
     },
     "metadata": {},
     "output_type": "display_data"
    }
   ],
   "execution_count": 5
  },
  {
   "metadata": {},
   "cell_type": "markdown",
   "source": "Вычисления попробуем производить на видеокарте",
   "id": "42cbcaa7cca8a507"
  },
  {
   "metadata": {
    "ExecuteTime": {
     "end_time": "2025-04-01T20:41:44.758103Z",
     "start_time": "2025-04-01T20:41:44.722262Z"
    }
   },
   "cell_type": "code",
   "source": [
    "device = torch.accelerator.current_accelerator().type if torch.accelerator.is_available() else \"cpu\"\n",
    "print(f\"Using {device} device\")"
   ],
   "id": "21c3d6a999a60099",
   "outputs": [
    {
     "name": "stdout",
     "output_type": "stream",
     "text": [
      "Using cuda device\n"
     ]
    }
   ],
   "execution_count": 6
  },
  {
   "metadata": {
    "ExecuteTime": {
     "end_time": "2025-04-01T20:41:44.762313Z",
     "start_time": "2025-04-01T20:41:44.758103Z"
    }
   },
   "cell_type": "code",
   "source": [
    "class SimpleNN(nn.Module):\n",
    "    def __init__(self, input_size, hidden_units, num_classes):\n",
    "        super(SimpleNN, self).__init__()\n",
    "        self.flatten = nn.Flatten()\n",
    "        self.fc1 = nn.Linear(input_size, hidden_units)\n",
    "        self.relu = nn.ReLU()\n",
    "        self.fc2 = nn.Linear(hidden_units, num_classes)\n",
    "        # self.softmax = nn.Softmax(dim=1)\n",
    "\n",
    "    def forward(self, x):\n",
    "        x = self.flatten(x)\n",
    "        x = self.fc1(x)\n",
    "        x = self.relu(x)\n",
    "        x = self.fc2(x)\n",
    "        # x = self.softmax(x)\n",
    "        return x"
   ],
   "id": "9d661010a995e3ab",
   "outputs": [],
   "execution_count": 7
  },
  {
   "metadata": {
    "ExecuteTime": {
     "end_time": "2025-04-01T20:41:44.766281Z",
     "start_time": "2025-04-01T20:41:44.762313Z"
    }
   },
   "cell_type": "code",
   "source": [
    "input_size = train_images.shape[1] * train_images.shape[2]\n",
    "hidden_units = 64\n",
    "num_classes = 26\n",
    "epochs = 10"
   ],
   "id": "5d848ec59ef2f0a",
   "outputs": [],
   "execution_count": 8
  },
  {
   "metadata": {
    "ExecuteTime": {
     "end_time": "2025-04-01T20:41:44.771976Z",
     "start_time": "2025-04-01T20:41:44.766281Z"
    }
   },
   "cell_type": "code",
   "source": "model = SimpleNN(input_size, hidden_units, num_classes)",
   "id": "6c58e42041e9cdf6",
   "outputs": [],
   "execution_count": 9
  },
  {
   "metadata": {
    "ExecuteTime": {
     "end_time": "2025-04-01T20:41:45.782991Z",
     "start_time": "2025-04-01T20:41:44.771976Z"
    }
   },
   "cell_type": "code",
   "source": [
    "criterion = nn.CrossEntropyLoss()\n",
    "optimizer = torch.optim.Adam(model.parameters(), lr=0.001)"
   ],
   "id": "67571ffab24173c",
   "outputs": [],
   "execution_count": 10
  },
  {
   "metadata": {
    "ExecuteTime": {
     "end_time": "2025-04-01T20:42:01.437867Z",
     "start_time": "2025-04-01T20:41:45.782991Z"
    }
   },
   "cell_type": "code",
   "source": [
    "for epoch in range(epochs):\n",
    "    running_loss = 0.0\n",
    "    for images, labels in train_loader:\n",
    "        images = images.view(-1, 28*28)\n",
    "        \n",
    "        optimizer.zero_grad()\n",
    "        outputs = model(images)\n",
    "        loss = criterion(outputs, labels.long())\n",
    "        loss.backward()\n",
    "        optimizer.step()\n",
    "        \n",
    "        running_loss += loss.item()\n",
    "    print(f'Epoch [{epoch+1}/{epochs}], Loss: {running_loss/len(train_loader):.4f}')"
   ],
   "id": "13c628306cc0432f",
   "outputs": [
    {
     "name": "stdout",
     "output_type": "stream",
     "text": [
      "Epoch [1/10], Loss: 1.0454\n",
      "Epoch [2/10], Loss: 0.6392\n",
      "Epoch [3/10], Loss: 0.5317\n",
      "Epoch [4/10], Loss: 0.4780\n",
      "Epoch [5/10], Loss: 0.4424\n",
      "Epoch [6/10], Loss: 0.4176\n",
      "Epoch [7/10], Loss: 0.4000\n",
      "Epoch [8/10], Loss: 0.3851\n",
      "Epoch [9/10], Loss: 0.3743\n",
      "Epoch [10/10], Loss: 0.3637\n"
     ]
    }
   ],
   "execution_count": 11
  },
  {
   "metadata": {
    "ExecuteTime": {
     "end_time": "2025-04-01T20:42:05.622467Z",
     "start_time": "2025-04-01T20:42:05.459510Z"
    }
   },
   "cell_type": "code",
   "source": [
    "correct = 0\n",
    "total = 0\n",
    "with torch.no_grad():\n",
    "    for images, labels in test_loader:\n",
    "        images = images.view(-1, 28*28)\n",
    "        outputs = model(images)\n",
    "        _, predicted = torch.max(outputs, 1)\n",
    "        total += labels.size(0)\n",
    "        correct += (predicted == labels).sum().item()\n",
    "\n",
    "accuracy = 100 * correct / total\n",
    "print(f'Accuracy on test set: {accuracy:.2f}%')"
   ],
   "id": "36c38028c377bf43",
   "outputs": [
    {
     "name": "stdout",
     "output_type": "stream",
     "text": [
      "Accuracy on test set: 87.39%\n"
     ]
    }
   ],
   "execution_count": 13
  }
 ],
 "metadata": {
  "kernelspec": {
   "display_name": "Python 3",
   "language": "python",
   "name": "python3"
  },
  "language_info": {
   "codemirror_mode": {
    "name": "ipython",
    "version": 2
   },
   "file_extension": ".py",
   "mimetype": "text/x-python",
   "name": "python",
   "nbconvert_exporter": "python",
   "pygments_lexer": "ipython2",
   "version": "2.7.6"
  }
 },
 "nbformat": 4,
 "nbformat_minor": 5
}
